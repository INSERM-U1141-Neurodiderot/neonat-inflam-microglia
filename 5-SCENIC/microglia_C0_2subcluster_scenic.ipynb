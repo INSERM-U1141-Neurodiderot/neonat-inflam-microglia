{
 "cells": [
  {
   "cell_type": "markdown",
   "id": "367bb089",
   "metadata": {},
   "source": [
    "loading package and scenic object"
   ]
  },
  {
   "cell_type": "code",
   "execution_count": 1,
   "id": "82549758-5761-489d-abe6-175111a77c75",
   "metadata": {
    "scrolled": true,
    "vscode": {
     "languageId": "r"
    }
   },
   "outputs": [
    {
     "name": "stderr",
     "output_type": "stream",
     "text": [
      "\n",
      "Attachement du package : ‘SCopeLoomR’\n",
      "\n",
      "\n",
      "L'objet suivant est masqué depuis ‘package:base’:\n",
      "\n",
      "    flush\n",
      "\n",
      "\n",
      "\n",
      "Attachement du package : ‘SCENIC’\n",
      "\n",
      "\n",
      "L'objet suivant est masqué depuis ‘package:AUCell’:\n",
      "\n",
      "    plotEmb_rgb\n",
      "\n",
      "\n",
      "KernSmooth 2.23 chargé\n",
      " Copyright M. P. Wand 1997-2009\n",
      "\n",
      "Le chargement a nécessité le package : ggplot2\n",
      "\n",
      "\n",
      "Attachement du package : ‘plotly’\n",
      "\n",
      "\n",
      "L'objet suivant est masqué depuis ‘package:ggplot2’:\n",
      "\n",
      "    last_plot\n",
      "\n",
      "\n",
      "L'objet suivant est masqué depuis ‘package:stats’:\n",
      "\n",
      "    filter\n",
      "\n",
      "\n",
      "L'objet suivant est masqué depuis ‘package:graphics’:\n",
      "\n",
      "    layout\n",
      "\n",
      "\n",
      "========================================\n",
      "ComplexHeatmap version 2.16.0\n",
      "Bioconductor page: http://bioconductor.org/packages/ComplexHeatmap/\n",
      "Github page: https://github.com/jokergoo/ComplexHeatmap\n",
      "Documentation: http://jokergoo.github.io/ComplexHeatmap-reference\n",
      "\n",
      "If you use it in published research, please cite either one:\n",
      "- Gu, Z. Complex Heatmap Visualization. iMeta 2022.\n",
      "- Gu, Z. Complex heatmaps reveal patterns and correlations in multidimensional \n",
      "    genomic data. Bioinformatics 2016.\n",
      "\n",
      "\n",
      "The new InteractiveComplexHeatmap package can directly export static \n",
      "complex heatmaps into an interactive Shiny app with zero effort. Have a try!\n",
      "\n",
      "This message can be suppressed by:\n",
      "  suppressPackageStartupMessages(library(ComplexHeatmap))\n",
      "========================================\n",
      "\n",
      "\n",
      "\n",
      "Attachement du package : ‘ComplexHeatmap’\n",
      "\n",
      "\n",
      "L'objet suivant est masqué depuis ‘package:plotly’:\n",
      "\n",
      "    add_heatmap\n",
      "\n",
      "\n",
      "\n",
      "Attachement du package : ‘dplyr’\n",
      "\n",
      "\n",
      "Les objets suivants sont masqués depuis ‘package:data.table’:\n",
      "\n",
      "    between, first, last\n",
      "\n",
      "\n",
      "Les objets suivants sont masqués depuis ‘package:stats’:\n",
      "\n",
      "    filter, lag\n",
      "\n",
      "\n",
      "Les objets suivants sont masqués depuis ‘package:base’:\n",
      "\n",
      "    intersect, setdiff, setequal, union\n",
      "\n",
      "\n",
      "========================================\n",
      "circlize version 0.4.15\n",
      "CRAN page: https://cran.r-project.org/package=circlize\n",
      "Github page: https://github.com/jokergoo/circlize\n",
      "Documentation: https://jokergoo.github.io/circlize_book/book/\n",
      "\n",
      "If you use it in published research, please cite:\n",
      "Gu, Z. circlize implements and enhances circular visualization\n",
      "  in R. Bioinformatics 2014.\n",
      "\n",
      "This message can be suppressed by:\n",
      "  suppressPackageStartupMessages(library(circlize))\n",
      "========================================\n",
      "\n",
      "\n"
     ]
    }
   ],
   "source": [
    "# Required packages:\n",
    "library(SCopeLoomR)\n",
    "library(AUCell)\n",
    "library(SCENIC)\n",
    "\n",
    "# For some of the plots:\n",
    "#library(dplyr)\n",
    "library(KernSmooth)\n",
    "library(RColorBrewer)\n",
    "library(plotly)\n",
    "library(BiocParallel)\n",
    "library(grid)\n",
    "library(ComplexHeatmap)\n",
    "library(data.table)\n",
    "library(gprofiler2)\n",
    "library(stringr)\n",
    "library(dplyr)\n",
    "library(tibble)\n",
    "library(ggrepel)\n",
    "library(circlize)\n",
    "library(svglite)"
   ]
  },
  {
   "cell_type": "code",
   "execution_count": 2,
   "id": "69f6e329-f42b-4f16-ad7e-a60f2d6404c9",
   "metadata": {
    "vscode": {
     "languageId": "r"
    }
   },
   "outputs": [
    {
     "data": {
      "text/html": [
       "'/work/user/adufour/notebook/scenic/visualisation_resultats/Microglia'"
      ],
      "text/latex": [
       "'/work/user/adufour/notebook/scenic/visualisation\\_resultats/Microglia'"
      ],
      "text/markdown": [
       "'/work/user/adufour/notebook/scenic/visualisation_resultats/Microglia'"
      ],
      "text/plain": [
       "[1] \"/work/user/adufour/notebook/scenic/visualisation_resultats/Microglia\""
      ]
     },
     "metadata": {},
     "output_type": "display_data"
    }
   ],
   "source": [
    "getwd()"
   ]
  },
  {
   "cell_type": "code",
   "execution_count": 3,
   "id": "90933197-5543-4b8e-b56f-6e68eccb78bd",
   "metadata": {
    "vscode": {
     "languageId": "r"
    }
   },
   "outputs": [],
   "source": [
    "options(repr.plot.width = 18, repr.plot.height = 17, repr.plot.pointsize = 24)"
   ]
  },
  {
   "cell_type": "code",
   "execution_count": 4,
   "id": "dd454bf1-e23f-42d4-bdf6-ce80d806a0bb",
   "metadata": {
    "vscode": {
     "languageId": "r"
    }
   },
   "outputs": [
    {
     "data": {
      "text/html": [
       "TRUE"
      ],
      "text/latex": [
       "TRUE"
      ],
      "text/markdown": [
       "TRUE"
      ],
      "text/plain": [
       "[1] TRUE"
      ]
     },
     "metadata": {},
     "output_type": "display_data"
    },
    {
     "data": {
      "text/html": [
       "TRUE"
      ],
      "text/latex": [
       "TRUE"
      ],
      "text/markdown": [
       "TRUE"
      ],
      "text/plain": [
       "[1] TRUE"
      ]
     },
     "metadata": {},
     "output_type": "display_data"
    }
   ],
   "source": [
    "scenicLoomPath <- file.path(\"/home/adufour/work/microglia/scenic_subcluster/work/f5/018827757f31bea0d1626d6b4dc4f6/scenic_visualize.loom\")\n",
    "motifEnrichmentFile <- file.path(\"/home/adufour/work/microglia/scenic_subcluster/out/scenic/10x_PBMC/multi_runs_cistarget/multi_runs_features_mtf.csv.gz\")\n",
    "file.exists(scenicLoomPath)\n",
    "file.exists(motifEnrichmentFile)"
   ]
  },
  {
   "cell_type": "code",
   "execution_count": 5,
   "id": "cb318432-9f33-4775-b201-74e81ece3769",
   "metadata": {
    "vscode": {
     "languageId": "r"
    }
   },
   "outputs": [],
   "source": [
    "loom <- open_loom(scenicLoomPath)\n",
    "    # Read information from loom file:\n",
    "    exprMat <- get_dgem(loom)\n",
    "        exprMat_log <- log2(exprMat+1) # Better if it is logged/normalized\n",
    "    regulons_incidMat <- get_regulons(loom, column.attr.name=\"Regulons\")\n",
    "        regulons <- regulonsToGeneLists(regulons_incidMat)\n",
    "    regulonAUC <- get_regulons_AUC(loom, column.attr.name='RegulonsAUC')\n",
    "    regulonAucThresholds <- get_regulon_thresholds(loom)\n",
    "        regulonAucThresholds <- setNames(as.numeric(names(regulonAucThresholds)), regulonAucThresholds)\n",
    "    embeddings <- get_embeddings(loom)\n",
    "    cellInfo <- get_cell_annotation(loom)\n",
    "close_loom(loom)"
   ]
  },
  {
   "cell_type": "code",
   "execution_count": 6,
   "id": "6123e47c-67b9-42e3-a90f-07619aa483bd",
   "metadata": {
    "vscode": {
     "languageId": "r"
    }
   },
   "outputs": [],
   "source": [
    "cellInfo = read.csv(\"/home/adufour/work/microglia/loom_metadata.csv\")"
   ]
  },
  {
   "cell_type": "markdown",
   "id": "0212370f",
   "metadata": {},
   "source": [
    "Add subtype information"
   ]
  },
  {
   "cell_type": "code",
   "execution_count": 15,
   "id": "80a56493-4924-4743-af26-0fa38a932677",
   "metadata": {
    "vscode": {
     "languageId": "r"
    }
   },
   "outputs": [],
   "source": [
    "cellInfo$stim_cluster_pnd <-paste(cellInfo$STIM, cellInfo$new_clusters, cellInfo$PND, sep=\"_\")"
   ]
  },
  {
   "cell_type": "code",
   "execution_count": 16,
   "id": "e42cd236-9686-43d5-afd1-1117272c3996",
   "metadata": {
    "vscode": {
     "languageId": "r"
    }
   },
   "outputs": [],
   "source": [
    "rownames(cellInfo) <- cellInfo$cell"
   ]
  },
  {
   "cell_type": "code",
   "execution_count": null,
   "id": "e090a528-4850-43c7-85f7-b6e0fb4f63d2",
   "metadata": {
    "vscode": {
     "languageId": "r"
    }
   },
   "outputs": [],
   "source": [
    "# Split the cells by stim_cluster_pnd:\n",
    "cellsPerCat <- split(rownames(cellInfo), cellInfo[,\"stim_cluster_pnd\"])\n",
    "cellsPerCat <- cellsPerCat[lengths(cellsPerCat) > 10] #remove categorie with too few cells\n",
    "# Calculate average expression:\n",
    "regulonActivity_byCat <- sapply(cellsPerCat, function(cells) rowMeans(getAUC(regulonAUC)[,cells]))"
   ]
  },
  {
   "cell_type": "markdown",
   "id": "b4b12bd3",
   "metadata": {},
   "source": [
    "Prepare Heatmap"
   ]
  },
  {
   "cell_type": "code",
   "execution_count": 14,
   "id": "c04a97f3-d696-4e68-b6c1-77f1331e31ec",
   "metadata": {
    "vscode": {
     "languageId": "r"
    }
   },
   "outputs": [],
   "source": [
    "mat <- t(scale(t(regulonActivity_byCat[names(regulons),]), center = T, scale=T))\n",
    "rownames(mat) <- gsub(\"_\", \" \", rownames(mat))\n",
    "ha <- rowAnnotation(Regulons_size = anno_barplot(lengths(regulons), which = \"row\", width = unit(20, \"mm\")), annotation_name_gp = grid::gpar(fontsize=20), annotation_name_rot = 90, annotation_label = \"Regulons size\")\n",
    "hb <- HeatmapAnnotation(foo = anno_block(gp = gpar(fill = rep(c(\"#6a9ad5\", \"#9078bf\"),3)),\n",
    "                                                   labels = rep(c('PBS', expression('IL-1-'*beta)), 3),\n",
    "                                         labels_gp = gpar(col = \"white\", fontsize = 18)))\n",
    "col_fun <- colorRamp2(seq(min(mat), max(mat), length = 100), colorRampPalette(rev(brewer.pal(n = 6, name = \"RdYlBu\")))(100))\n",
    "lgd <- list(title = \"Regulon activity\", legend_height = unit(6, \"cm\"), grid_width = unit(1, \"cm\"), labels_gp = gpar(fontsize = 20), title_gp = gpar(fontsize = 18), title_position = \"leftcenter-rot\")\n",
    "split = rep(1:6, each = 3)"
   ]
  },
  {
   "cell_type": "code",
   "execution_count": 15,
   "id": "827897a9-b528-4253-98ac-02bbc4bb03a6",
   "metadata": {
    "vscode": {
     "languageId": "r"
    }
   },
   "outputs": [],
   "source": [
    "column_order <- c(\"pbs_20_P1\", \"pbs_20_P3\", \"pbs_20_P5\", \"il1_20_P1\", \"il1_20_P3\", \"il1_20_P5\", \"pbs_21_P1\", \"pbs_21_P3\", \"pbs_21_P5\", \"il1_21_P1\", \"il1_21_P3\", \"il1_21_P5\", \"pbs_22_P1\", \"pbs_22_P3\", \"pbs_22_P5\", \"il1_22_P1\", \"il1_22_P3\", \"il1_22_P5\")"
   ]
  },
  {
   "cell_type": "code",
   "execution_count": 16,
   "id": "5dbb10dd-d4a8-4544-846e-fc96885de7ce",
   "metadata": {
    "vscode": {
     "languageId": "r"
    }
   },
   "outputs": [
    {
     "data": {
      "text/html": [
       "<strong>png:</strong> 2"
      ],
      "text/latex": [
       "\\textbf{png:} 2"
      ],
      "text/markdown": [
       "**png:** 2"
      ],
      "text/plain": [
       "png \n",
       "  2 "
      ]
     },
     "metadata": {},
     "output_type": "display_data"
    }
   ],
   "source": [
    "options(repr.plot.width=30, repr.plot.height=20) # To set the figure size in Jupyter\n",
    "pdf('/home/adufour/work/notebook/plots/Microglia/regulon_microglia_subcluster.pdf',width=20,height=22)\n",
    "hm <- draw(ComplexHeatmap::Heatmap(mat[,column_order], col = col_fun, cluster_columns = FALSE, row_names_gp=grid::gpar(fontsize=24),column_names_gp=grid::gpar(fontsize=24),\n",
    "                                   column_gap = unit(3, \"mm\"), right_annotation = ha, column_labels = rep(c(\"P1\",\"P3\",\"P5\"),6), column_split = split, top_annotation = hb,\n",
    "                                   column_title = NULL, heatmap_legend_param = lgd), padding = unit(c(20, 2, 2, 2), \"mm\"))\n",
    "dev.off()"
   ]
  },
  {
   "cell_type": "markdown",
   "id": "d7bc5703",
   "metadata": {},
   "source": [
    "Write supplementary infos"
   ]
  },
  {
   "cell_type": "code",
   "execution_count": 12,
   "id": "055f802f-ddfc-46f0-9953-2586c1dad74a",
   "metadata": {
    "vscode": {
     "languageId": "r"
    }
   },
   "outputs": [
    {
     "data": {
      "text/html": [
       "<table class=\"dataframe\">\n",
       "<caption>A data.frame: 6 × 2</caption>\n",
       "<thead>\n",
       "\t<tr><th></th><th scope=col>values</th><th scope=col>ind</th></tr>\n",
       "\t<tr><th></th><th scope=col>&lt;chr&gt;</th><th scope=col>&lt;fct&gt;</th></tr>\n",
       "</thead>\n",
       "<tbody>\n",
       "\t<tr><th scope=row>1</th><td>Actg1  </td><td>Atf3_(+)</td></tr>\n",
       "\t<tr><th scope=row>2</th><td>Adamts1</td><td>Atf3_(+)</td></tr>\n",
       "\t<tr><th scope=row>3</th><td>Apoc1  </td><td>Atf3_(+)</td></tr>\n",
       "\t<tr><th scope=row>4</th><td>Apoe   </td><td>Atf3_(+)</td></tr>\n",
       "\t<tr><th scope=row>5</th><td>Atf3   </td><td>Atf3_(+)</td></tr>\n",
       "\t<tr><th scope=row>6</th><td>Btg2   </td><td>Atf3_(+)</td></tr>\n",
       "</tbody>\n",
       "</table>\n"
      ],
      "text/latex": [
       "A data.frame: 6 × 2\n",
       "\\begin{tabular}{r|ll}\n",
       "  & values & ind\\\\\n",
       "  & <chr> & <fct>\\\\\n",
       "\\hline\n",
       "\t1 & Actg1   & Atf3\\_(+)\\\\\n",
       "\t2 & Adamts1 & Atf3\\_(+)\\\\\n",
       "\t3 & Apoc1   & Atf3\\_(+)\\\\\n",
       "\t4 & Apoe    & Atf3\\_(+)\\\\\n",
       "\t5 & Atf3    & Atf3\\_(+)\\\\\n",
       "\t6 & Btg2    & Atf3\\_(+)\\\\\n",
       "\\end{tabular}\n"
      ],
      "text/markdown": [
       "\n",
       "A data.frame: 6 × 2\n",
       "\n",
       "| <!--/--> | values &lt;chr&gt; | ind &lt;fct&gt; |\n",
       "|---|---|---|\n",
       "| 1 | Actg1   | Atf3_(+) |\n",
       "| 2 | Adamts1 | Atf3_(+) |\n",
       "| 3 | Apoc1   | Atf3_(+) |\n",
       "| 4 | Apoe    | Atf3_(+) |\n",
       "| 5 | Atf3    | Atf3_(+) |\n",
       "| 6 | Btg2    | Atf3_(+) |\n",
       "\n"
      ],
      "text/plain": [
       "  values  ind     \n",
       "1 Actg1   Atf3_(+)\n",
       "2 Adamts1 Atf3_(+)\n",
       "3 Apoc1   Atf3_(+)\n",
       "4 Apoe    Atf3_(+)\n",
       "5 Atf3    Atf3_(+)\n",
       "6 Btg2    Atf3_(+)"
      ]
     },
     "metadata": {},
     "output_type": "display_data"
    }
   ],
   "source": [
    "y <- stack(regulons)\n",
    "head(y)"
   ]
  },
  {
   "cell_type": "code",
   "execution_count": 13,
   "id": "3709101a-a2ad-4493-81fc-34d516e4e689",
   "metadata": {
    "vscode": {
     "languageId": "r"
    }
   },
   "outputs": [],
   "source": [
    "write.csv(y, \"/home/adufour/work/table/regulon_microglia_subcluster.csv\", row.names=FALSE)"
   ]
  },
  {
   "cell_type": "code",
   "execution_count": 20,
   "id": "0a29cce0-6fe0-4a8b-ae45-81cab72cb6ed",
   "metadata": {
    "vscode": {
     "languageId": "r"
    }
   },
   "outputs": [],
   "source": [
    "write.csv(regulonActivity_byCat, \"/home/adufour/work/table/regulon_AUC_microglia_subcluster.csv\", row.names=TRUE)"
   ]
  }
 ],
 "metadata": {
  "kernelspec": {
   "display_name": "R [conda env:scenic]",
   "language": "R",
   "name": "conda-env-scenic-r"
  },
  "language_info": {
   "codemirror_mode": "r",
   "file_extension": ".r",
   "mimetype": "text/x-r-source",
   "name": "R",
   "pygments_lexer": "r",
   "version": "4.3.1"
  }
 },
 "nbformat": 4,
 "nbformat_minor": 5
}
