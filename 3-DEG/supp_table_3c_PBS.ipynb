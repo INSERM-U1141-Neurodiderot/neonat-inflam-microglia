{
 "cells": [
  {
   "cell_type": "markdown",
   "id": "a14df28a",
   "metadata": {},
   "source": [
    "loading package and seurat object"
   ]
  },
  {
   "cell_type": "code",
   "execution_count": 1,
   "id": "34feb3ce-4077-40d6-aeb9-f2021d6ce0a4",
   "metadata": {
    "vscode": {
     "languageId": "r"
    }
   },
   "outputs": [
    {
     "name": "stderr",
     "output_type": "stream",
     "text": [
      "Attaching SeuratObject\n",
      "\n",
      "\n",
      "Attachement du package : ‘dplyr’\n",
      "\n",
      "\n",
      "Les objets suivants sont masqués depuis ‘package:stats’:\n",
      "\n",
      "    filter, lag\n",
      "\n",
      "\n",
      "Les objets suivants sont masqués depuis ‘package:base’:\n",
      "\n",
      "    intersect, setdiff, setequal, union\n",
      "\n",
      "\n"
     ]
    }
   ],
   "source": [
    "library(Seurat)\n",
    "library(dplyr)"
   ]
  },
  {
   "cell_type": "code",
   "execution_count": 5,
   "id": "1456ed22-a223-490f-9a74-c5773fac51b8",
   "metadata": {
    "vscode": {
     "languageId": "r"
    }
   },
   "outputs": [],
   "source": [
    "microglia_IEG_subcluster <- readRDS(\"/home/adufour/work/rds_storage/microglia/microglia_IEG.rds\")\n",
    "microglia_HOM_subcluster <- readRDS(\"/home/adufour/work/rds_storage/microglia/microglia_HOM.rds\")\n",
    "microglia_MACS_subcluster <- readRDS(\"/home/adufour/work/rds_storage/microglia/microglia_MACS.rds\")\n",
    "microglia_immune_allcells <- readRDS(\"/home/adufour/work/rds_storage/microglia/microglia.rds\")"
   ]
  },
  {
   "cell_type": "markdown",
   "id": "7977a270",
   "metadata": {},
   "source": [
    "Add subtype information"
   ]
  },
  {
   "cell_type": "code",
   "execution_count": 6,
   "id": "ea612fee-e82b-4673-b9ca-53442a51f0b9",
   "metadata": {
    "vscode": {
     "languageId": "r"
    }
   },
   "outputs": [],
   "source": [
    "microglia_IEG_subcluster@meta.data$cs <- paste0(microglia_IEG_subcluster@meta.data$seurat_clusters, \"_\", microglia_IEG_subcluster@meta.data$STIM)\n",
    "microglia_IEG_subcluster@meta.data$cst <- paste0(microglia_IEG_subcluster@meta.data$seurat_clusters, \"_\", microglia_IEG_subcluster@meta.data$STIM, \"_\", microglia_IEG_subcluster@meta.data$PND)\n",
    "microglia_IEG_subcluster@meta.data$ct <- paste0(microglia_IEG_subcluster@meta.data$seurat_clusters, \"_\", microglia_IEG_subcluster@meta.data$PND)\n",
    "\n",
    "microglia_HOM_subcluster@meta.data$cs <- paste0(microglia_HOM_subcluster@meta.data$seurat_clusters, \"_\", microglia_HOM_subcluster@meta.data$STIM)\n",
    "microglia_HOM_subcluster@meta.data$cst <- paste0(microglia_HOM_subcluster@meta.data$seurat_clusters, \"_\", microglia_HOM_subcluster@meta.data$STIM, \"_\", microglia_HOM_subcluster@meta.data$PND)\n",
    "microglia_HOM_subcluster@meta.data$ct <- paste0(microglia_HOM_subcluster@meta.data$seurat_clusters, \"_\", microglia_HOM_subcluster@meta.data$PND)\n",
    "\n",
    "microglia_MACS_subcluster@meta.data$cs <- paste0(microglia_MACS_subcluster@meta.data$seurat_clusters, \"_\", microglia_MACS_subcluster@meta.data$STIM)\n",
    "microglia_MACS_subcluster@meta.data$cst <- paste0(microglia_MACS_subcluster@meta.data$seurat_clusters, \"_\", microglia_MACS_subcluster@meta.data$STIM, \"_\", microglia_MACS_subcluster@meta.data$PND)\n",
    "microglia_MACS_subcluster@meta.data$ct <- paste0(microglia_MACS_subcluster@meta.data$seurat_clusters, \"_\", microglia_MACS_subcluster@meta.data$PND)\n",
    "\n",
    "microglia_immune_allcells@meta.data$cs <- paste0(microglia_immune_allcells@meta.data$seurat_clusters, \"_\", microglia_immune_allcells@meta.data$STIM)\n",
    "microglia_immune_allcells@meta.data$cst <- paste0(microglia_immune_allcells@meta.data$seurat_clusters, \"_\", microglia_immune_allcells@meta.data$STIM, \"_\", microglia_immune_allcells@meta.data$PND)\n",
    "microglia_immune_allcells@meta.data$ct <- paste0(microglia_immune_allcells@meta.data$seurat_clusters, \"_\", microglia_immune_allcells@meta.data$PND)"
   ]
  },
  {
   "cell_type": "markdown",
   "id": "8ac21539",
   "metadata": {},
   "source": [
    "keep only cells in pbs condition"
   ]
  },
  {
   "cell_type": "code",
   "execution_count": 9,
   "id": "3099cf27-a302-4bc1-a09f-94625f07913f",
   "metadata": {
    "vscode": {
     "languageId": "r"
    }
   },
   "outputs": [],
   "source": [
    "microglia_IEG_subcluster_pbs <- subset(x = microglia_IEG_subcluster, subset = STIM == \"pbs\")\n",
    "microglia_HOM_subcluster_pbs <- subset(x = microglia_HOM_subcluster, subset = STIM == \"pbs\")\n",
    "microglia_MACS_subcluster_pbs <- subset(x = microglia_MACS_subcluster, subset = STIM == \"pbs\")\n",
    "microglia_immune_allcells_pbs <- subset(x = microglia_immune_allcells, subset = STIM == \"pbs\")"
   ]
  },
  {
   "cell_type": "markdown",
   "id": "497ac1d6",
   "metadata": {},
   "source": [
    "Find markers for each case"
   ]
  },
  {
   "cell_type": "code",
   "execution_count": 10,
   "id": "4237db63-1e8d-4cb4-a6cd-3c76fe972de1",
   "metadata": {
    "vscode": {
     "languageId": "r"
    }
   },
   "outputs": [
    {
     "name": "stderr",
     "output_type": "stream",
     "text": [
      "Calculating cluster 0\n",
      "\n",
      "Calculating cluster 1\n",
      "\n",
      "Calculating cluster 2\n",
      "\n",
      "Calculating cluster 3\n",
      "\n",
      "Calculating cluster 4\n",
      "\n",
      "Calculating cluster 5\n",
      "\n",
      "Calculating cluster 6\n",
      "\n",
      "Calculating cluster 7\n",
      "\n",
      "Calculating cluster 8\n",
      "\n",
      "Calculating cluster 9\n",
      "\n",
      "Calculating cluster 10\n",
      "\n",
      "Calculating cluster 11\n",
      "\n"
     ]
    }
   ],
   "source": [
    "microglia_immune_allcells_pbs.markers <- FindAllMarkers(microglia_immune_allcells_pbs)"
   ]
  },
  {
   "cell_type": "code",
   "execution_count": 11,
   "id": "810f6308-edcc-4aa1-ab15-eb7a89c2d704",
   "metadata": {
    "vscode": {
     "languageId": "r"
    }
   },
   "outputs": [],
   "source": [
    "write.csv(microglia_immune_allcells_pbs.markers, file = \"/home/adufour/work/table/microglia_immune_allcells_pbs.DEG.csv\", row.names=TRUE)"
   ]
  },
  {
   "cell_type": "code",
   "execution_count": 12,
   "id": "646a011a-f8d6-42c7-98fa-c408f83a9427",
   "metadata": {
    "vscode": {
     "languageId": "r"
    }
   },
   "outputs": [
    {
     "name": "stderr",
     "output_type": "stream",
     "text": [
      "Calculating cluster 0\n",
      "\n",
      "Calculating cluster 1\n",
      "\n",
      "Calculating cluster 2\n",
      "\n"
     ]
    }
   ],
   "source": [
    "microglia_IEG_subcluster_pbs.markers <- FindAllMarkers(microglia_IEG_subcluster_pbs)\n",
    "write.csv(microglia_IEG_subcluster_pbs.markers, file = \"/home/adufour/work/table/microglia_IEG_subcluster_pbs.DEG.csv\", row.names=TRUE)"
   ]
  },
  {
   "cell_type": "code",
   "execution_count": 13,
   "id": "ab9b3714-b69c-47b5-959f-ff551cedcad9",
   "metadata": {
    "vscode": {
     "languageId": "r"
    }
   },
   "outputs": [
    {
     "name": "stderr",
     "output_type": "stream",
     "text": [
      "Calculating cluster 0\n",
      "\n",
      "Calculating cluster 1\n",
      "\n"
     ]
    }
   ],
   "source": [
    "microglia_HOM_subcluster_pbs.markers <- FindAllMarkers(microglia_HOM_subcluster_pbs)\n",
    "write.csv(microglia_HOM_subcluster_pbs.markers, file = \"/home/adufour/work/table/microglia_HOM_subcluster_pbs.DEG.csv\", row.names=TRUE)"
   ]
  },
  {
   "cell_type": "code",
   "execution_count": 14,
   "id": "b403cad9-8bd9-490f-ae84-e2bfa048d12e",
   "metadata": {
    "vscode": {
     "languageId": "r"
    }
   },
   "outputs": [
    {
     "name": "stderr",
     "output_type": "stream",
     "text": [
      "Calculating cluster 0\n",
      "\n",
      "Calculating cluster 1\n",
      "\n",
      "Calculating cluster 2\n",
      "\n"
     ]
    }
   ],
   "source": [
    "microglia_MACS_subcluster_pbs.markers <- FindAllMarkers(microglia_MACS_subcluster_pbs)\n",
    "write.csv(microglia_MACS_subcluster_pbs.markers, file = \"/home/adufour/work/table/microglia_MACS_subcluster_pbs.DEG.csv\", row.names=TRUE)"
   ]
  },
  {
   "cell_type": "markdown",
   "id": "223e7ca2",
   "metadata": {},
   "source": [
    "For every post-natal days make DEG with the other clusters"
   ]
  },
  {
   "cell_type": "code",
   "execution_count": 15,
   "id": "6ea64534-76b4-4ced-8e79-9bfa1d46d228",
   "metadata": {
    "vscode": {
     "languageId": "r"
    }
   },
   "outputs": [],
   "source": [
    "for (i in unique(microglia_IEG_subcluster_pbs@meta.data$seurat_clusters)) {\n",
    "    Idents(microglia_IEG_subcluster_pbs) <- \"seurat_clusters\"\n",
    "    microglia_IEG_subcluster_pbs_P1_markers <- FindMarkers(microglia_IEG_subcluster_pbs, ident.1 = \"P1\", group.by = 'PND', subset.ident = i)\n",
    "    write.csv(microglia_IEG_subcluster_pbs_P1_markers, file = paste0(\"/home/adufour/work/table/microglia_IEG_subcluster_pbs_P1_markers_\", i, \".csv\"), row.names=TRUE)\n",
    "    microglia_IEG_subcluster_pbs_P3_markers <- FindMarkers(microglia_IEG_subcluster_pbs, ident.1 = \"P3\", group.by = 'PND', subset.ident = i)\n",
    "    write.csv(microglia_IEG_subcluster_pbs_P3_markers, file = paste0(\"/home/adufour/work/table/microglia_IEG_subcluster_pbs_P3_markers_\", i, \".csv\"), row.names=TRUE)\n",
    "    microglia_IEG_subcluster_pbs_P5_markers <- FindMarkers(microglia_IEG_subcluster_pbs, ident.1 = \"P5\", group.by = 'PND', subset.ident = i)\n",
    "    write.csv(microglia_IEG_subcluster_pbs_P5_markers, file = paste0(\"/home/adufour/work/table/microglia_IEG_subcluster_pbs_P5_markers_\", i, \".csv\"), row.names=TRUE)\n",
    "}"
   ]
  },
  {
   "cell_type": "code",
   "execution_count": 16,
   "id": "a38f24c0-15eb-46be-b764-07d655bce8c0",
   "metadata": {
    "vscode": {
     "languageId": "r"
    }
   },
   "outputs": [],
   "source": [
    "for (i in unique(microglia_HOM_subcluster_pbs@meta.data$seurat_clusters)) {\n",
    "    Idents(microglia_HOM_subcluster_pbs) <- \"seurat_clusters\"\n",
    "    microglia_HOM_subcluster_pbs_P1_markers <- FindMarkers(microglia_HOM_subcluster_pbs, ident.1 = \"P1\", group.by = 'PND', subset.ident = i)\n",
    "    write.csv(microglia_HOM_subcluster_pbs_P1_markers, file = paste0(\"/home/adufour/work/table/microglia_HOM_subcluster_pbs_P1_markers_\", i, \".csv\"), row.names=TRUE)\n",
    "    microglia_HOM_subcluster_pbs_P3_markers <- FindMarkers(microglia_HOM_subcluster_pbs, ident.1 = \"P3\", group.by = 'PND', subset.ident = i)\n",
    "    write.csv(microglia_HOM_subcluster_pbs_P3_markers, file = paste0(\"/home/adufour/work/table/mmicroglia_HOM_subcluster_pbs_P3_markers_\", i, \".csv\"), row.names=TRUE)\n",
    "    microglia_HOM_subcluster_pbs_P5_markers <- FindMarkers(microglia_HOM_subcluster_pbs, ident.1 = \"P5\", group.by = 'PND', subset.ident = i)\n",
    "    write.csv(microglia_HOM_subcluster_pbs_P5_markers, file = paste0(\"/home/adufour/work/table/microglia_HOM_subcluster_pbs_P5_markers_\", i, \".csv\"), row.names=TRUE)\n",
    "}"
   ]
  },
  {
   "cell_type": "code",
   "execution_count": 18,
   "id": "75d82cb6-8388-4e0b-ac06-de5f14f4d522",
   "metadata": {
    "vscode": {
     "languageId": "r"
    }
   },
   "outputs": [],
   "source": [
    "for (i in unique(microglia_MACS_subcluster_pbs@meta.data$seurat_clusters)) {\n",
    "    Idents(microglia_MACS_subcluster_pbs) <- \"seurat_clusters\"\n",
    "    microglia_MACS_subcluster_pbs_P1_markers <- FindMarkers(microglia_MACS_subcluster_pbs, ident.1 = \"P1\", group.by = 'PND', subset.ident = i)\n",
    "    write.csv(microglia_MACS_subcluster_pbs_P1_markers, file = paste0(\"/home/adufour/work/table/microglia_MACS_subcluster_pbs_P1_markers_\", i, \".csv\"), row.names=TRUE)\n",
    "    microglia_MACS_subcluster_pbs_P3_markers <- FindMarkers(microglia_MACS_subcluster_pbs, ident.1 = \"P3\", group.by = 'PND', subset.ident = i)\n",
    "    write.csv(microglia_MACS_subcluster_pbs_P3_markers, file = paste0(\"/home/adufour/work/table/microglia_MACS_subcluster_pbs_P3_markers_\", i, \".csv\"), row.names=TRUE)\n",
    "    microglia_MACS_subcluster_pbs_P5_markers <- FindMarkers(microglia_MACS_subcluster_pbs, ident.1 = \"P5\", group.by = 'PND', subset.ident = i)\n",
    "    write.csv(microglia_MACS_subcluster_pbs_P5_markers, file = paste0(\"/home/adufour/work/table/microglia_MACS_subcluster_pbs_P5_markers_\", i, \".csv\"), row.names=TRUE)\n",
    "}"
   ]
  },
  {
   "cell_type": "code",
   "execution_count": 19,
   "id": "67fc8fa0-d9b7-43e7-9b21-83f83e182302",
   "metadata": {
    "vscode": {
     "languageId": "r"
    }
   },
   "outputs": [
    {
     "name": "stdout",
     "output_type": "stream",
     "text": [
      "Error in WhichCells.Seurat(object = object, idents = ident.1) : \n",
      "  Cannot find the following identities in the object: P1\n",
      "Error in as.data.frame.default(x[[i]], optional = TRUE, stringsAsFactors = stringsAsFactors) : \n",
      "  impossible de convertir automatiquement la classe ‘\"try-error\"’ en un tableau de données (data.frame)\n",
      "Error in WhichCells.Seurat(object = object, idents = ident.1) : \n",
      "  Cannot find the following identities in the object: P3\n",
      "Error in as.data.frame.default(x[[i]], optional = TRUE, stringsAsFactors = stringsAsFactors) : \n",
      "  impossible de convertir automatiquement la classe ‘\"try-error\"’ en un tableau de données (data.frame)\n",
      "Error in ValidateCellGroups(object = object, cells.1 = cells.1, cells.2 = cells.2,  : \n",
      "  Cell group 2 is empty - no cells with identity class \n",
      "Error in as.data.frame.default(x[[i]], optional = TRUE, stringsAsFactors = stringsAsFactors) : \n",
      "  impossible de convertir automatiquement la classe ‘\"try-error\"’ en un tableau de données (data.frame)\n"
     ]
    }
   ],
   "source": [
    "for (i in unique(microglia_immune_allcells_pbs@meta.data$seurat_clusters)) {\n",
    "    Idents(microglia_immune_allcells_pbs) <- \"seurat_clusters\"\n",
    "    microglia_immune_allcells_pbs_P1_markers <- try(FindMarkers(microglia_immune_allcells_pbs, ident.1 = \"P1\", group.by = 'PND', subset.ident = i))\n",
    "    try(write.csv(microglia_immune_allcells_pbs_P1_markers, file = paste0(\"/home/adufour/work/table/microglia_immune_P1_\", i, \".csv\"), row.names=TRUE))\n",
    "    microglia_immune_allcells_pbs_P3_markers <- try(FindMarkers(microglia_immune_allcells_pbs, ident.1 = \"P3\", group.by = 'PND', subset.ident = i))\n",
    "    try(write.csv(microglia_immune_allcells_pbs_P3_markers, file = paste0(\"/home/adufour/work/table/microglia_immune_P3_\", i, \".csv\"), row.names=TRUE))\n",
    "    microglia_immune_allcells_pbs_P5_markers <- try(FindMarkers(microglia_immune_allcells_pbs, ident.1 = \"P5\", group.by = 'PND', subset.ident = i))\n",
    "    try(write.csv(microglia_immune_allcells_pbs_P5_markers, file = paste0(\"/home/adufour/work/table/microglia_immune_P5_\", i, \".csv\"), row.names=TRUE))\n",
    "}"
   ]
  },
  {
   "cell_type": "code",
   "execution_count": null,
   "id": "9096de5f-f9eb-419e-bb57-d0bbd860ddbd",
   "metadata": {
    "vscode": {
     "languageId": "r"
    }
   },
   "outputs": [],
   "source": []
  }
 ],
 "metadata": {
  "kernelspec": {
   "display_name": "R [conda env:singlecell] *",
   "language": "R",
   "name": "conda-env-singlecell-r"
  },
  "language_info": {
   "codemirror_mode": "r",
   "file_extension": ".r",
   "mimetype": "text/x-r-source",
   "name": "R",
   "pygments_lexer": "r",
   "version": "4.1.3"
  }
 },
 "nbformat": 4,
 "nbformat_minor": 5
}
