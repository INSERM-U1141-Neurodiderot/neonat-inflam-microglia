{
 "cells": [
  {
   "cell_type": "markdown",
   "id": "164db975",
   "metadata": {},
   "source": [
    "loading package and seurat object"
   ]
  },
  {
   "cell_type": "code",
   "execution_count": null,
   "id": "34feb3ce-4077-40d6-aeb9-f2021d6ce0a4",
   "metadata": {
    "vscode": {
     "languageId": "r"
    }
   },
   "outputs": [
    {
     "name": "stderr",
     "output_type": "stream",
     "text": [
      "Attaching SeuratObject\n",
      "\n",
      "\n",
      "Attachement du package : ‘dplyr’\n",
      "\n",
      "\n",
      "Les objets suivants sont masqués depuis ‘package:stats’:\n",
      "\n",
      "    filter, lag\n",
      "\n",
      "\n",
      "Les objets suivants sont masqués depuis ‘package:base’:\n",
      "\n",
      "    intersect, setdiff, setequal, union\n",
      "\n",
      "\n"
     ]
    }
   ],
   "source": [
    "library(Seurat)\n",
    "library(dplyr)"
   ]
  },
  {
   "cell_type": "code",
   "execution_count": 2,
   "id": "1456ed22-a223-490f-9a74-c5773fac51b8",
   "metadata": {
    "vscode": {
     "languageId": "r"
    }
   },
   "outputs": [],
   "source": [
    "microglia_IEG_subcluster <- readRDS(\"/home/adufour/work/rds_storage/microglia/microglia_IEG.rds\")\n",
    "microglia_HOM_subcluster <- readRDS(\"/home/adufour/work/rds_storage/microglia/microglia_HOM.rds\")\n",
    "microglia_MACS_subcluster <- readRDS(\"/home/adufour/work/rds_storage/microglia/microglia_MACS.rds\")\n",
    "microglia_allcells <- readRDS(\"/home/adufour/work/rds_storage/microglia/microglia.rds\")"
   ]
  },
  {
   "cell_type": "markdown",
   "id": "08e9bdb5",
   "metadata": {},
   "source": [
    "Add subtype information"
   ]
  },
  {
   "cell_type": "code",
   "execution_count": 3,
   "id": "ea612fee-e82b-4673-b9ca-53442a51f0b9",
   "metadata": {
    "vscode": {
     "languageId": "r"
    }
   },
   "outputs": [],
   "source": [
    "microglia_IEG_subcluster@meta.data$cs <- paste0(microglia_IEG_subcluster@meta.data$seurat_clusters, \"_\", microglia_IEG_subcluster@meta.data$STIM)\n",
    "microglia_IEG_subcluster@meta.data$cst <- paste0(microglia_IEG_subcluster@meta.data$seurat_clusters, \"_\", microglia_IEG_subcluster@meta.data$STIM, \"_\", microglia_IEG_subcluster@meta.data$PND)\n",
    "microglia_IEG_subcluster@meta.data$ct <- paste0(microglia_IEG_subcluster@meta.data$seurat_clusters, \"_\", microglia_IEG_subcluster@meta.data$PND)\n",
    "\n",
    "microglia_HOM_subcluster@meta.data$cs <- paste0(microglia_HOM_subcluster@meta.data$seurat_clusters, \"_\", microglia_HOM_subcluster@meta.data$STIM)\n",
    "microglia_HOM_subcluster@meta.data$cst <- paste0(microglia_HOM_subcluster@meta.data$seurat_clusters, \"_\", microglia_HOM_subcluster@meta.data$STIM, \"_\", microglia_HOM_subcluster@meta.data$PND)\n",
    "microglia_HOM_subcluster@meta.data$ct <- paste0(microglia_HOM_subcluster@meta.data$seurat_clusters, \"_\", microglia_HOM_subcluster@meta.data$PND)\n",
    "\n",
    "microglia_MACS_subcluster@meta.data$cs <- paste0(microglia_MACS_subcluster@meta.data$seurat_clusters, \"_\", microglia_MACS_subcluster@meta.data$STIM)\n",
    "microglia_MACS_subcluster@meta.data$cst <- paste0(microglia_MACS_subcluster@meta.data$seurat_clusters, \"_\", microglia_MACS_subcluster@meta.data$STIM, \"_\", microglia_MACS_subcluster@meta.data$PND)\n",
    "microglia_MACS_subcluster@meta.data$ct <- paste0(microglia_MACS_subcluster@meta.data$seurat_clusters, \"_\", microglia_MACS_subcluster@meta.data$PND)\n",
    "\n",
    "microglia_allcells@meta.data$cs <- paste0(microglia_allcells@meta.data$seurat_clusters, \"_\", microglia_allcells@meta.data$STIM)\n",
    "microglia_allcells@meta.data$cst <- paste0(microglia_allcells@meta.data$seurat_clusters, \"_\", microglia_allcells@meta.data$STIM, \"_\", microglia_allcells@meta.data$PND)\n",
    "microglia_allcells@meta.data$ct <- paste0(microglia_allcells@meta.data$seurat_clusters, \"_\", microglia_allcells@meta.data$PND)"
   ]
  },
  {
   "cell_type": "markdown",
   "id": "e71e86e9",
   "metadata": {},
   "source": [
    "keep only cells in il1 condition"
   ]
  },
  {
   "cell_type": "code",
   "execution_count": 4,
   "id": "3099cf27-a302-4bc1-a09f-94625f07913f",
   "metadata": {
    "vscode": {
     "languageId": "r"
    }
   },
   "outputs": [],
   "source": [
    "microglia_IEG_subcluster_il1 <- subset(x = microglia_IEG_subcluster, subset = STIM == \"il1\")\n",
    "microglia_HOM_subcluster_il1 <- subset(x = microglia_HOM_subcluster, subset = STIM == \"il1\")\n",
    "microglia_MACS_subcluster_il1 <- subset(x = microglia_MACS_subcluster, subset = STIM == \"il1\")\n",
    "microglia_allcells_il1 <- subset(x = microglia_allcells, subset = STIM == \"il1\")"
   ]
  },
  {
   "cell_type": "markdown",
   "id": "c8461861",
   "metadata": {},
   "source": [
    "Find markers for each case"
   ]
  },
  {
   "cell_type": "code",
   "execution_count": 5,
   "id": "4237db63-1e8d-4cb4-a6cd-3c76fe972de1",
   "metadata": {
    "vscode": {
     "languageId": "r"
    }
   },
   "outputs": [
    {
     "name": "stderr",
     "output_type": "stream",
     "text": [
      "Calculating cluster 0\n",
      "\n",
      "Calculating cluster 1\n",
      "\n",
      "Calculating cluster 2\n",
      "\n",
      "Calculating cluster 3\n",
      "\n",
      "Calculating cluster 4\n",
      "\n",
      "Calculating cluster 5\n",
      "\n",
      "Calculating cluster 6\n",
      "\n",
      "Calculating cluster 7\n",
      "\n",
      "Calculating cluster 8\n",
      "\n",
      "Calculating cluster 9\n",
      "\n",
      "Calculating cluster 10\n",
      "\n",
      "Calculating cluster 11\n",
      "\n"
     ]
    }
   ],
   "source": [
    "microglia_allcells_il1.markers <- FindAllMarkers(microglia_allcells_il1)"
   ]
  },
  {
   "cell_type": "code",
   "execution_count": 6,
   "id": "810f6308-edcc-4aa1-ab15-eb7a89c2d704",
   "metadata": {
    "vscode": {
     "languageId": "r"
    }
   },
   "outputs": [],
   "source": [
    "write.csv(microglia_allcells_il1.markers, file = \"/home/adufour/work/table/microglia_allcells_il1.markers.DEG.csv\", row.names=TRUE)"
   ]
  },
  {
   "cell_type": "code",
   "execution_count": 7,
   "id": "646a011a-f8d6-42c7-98fa-c408f83a9427",
   "metadata": {
    "vscode": {
     "languageId": "r"
    }
   },
   "outputs": [
    {
     "name": "stderr",
     "output_type": "stream",
     "text": [
      "Calculating cluster 0\n",
      "\n",
      "Calculating cluster 1\n",
      "\n",
      "Calculating cluster 2\n",
      "\n"
     ]
    }
   ],
   "source": [
    "microglia_IEG_subcluster_il1.markers <- FindAllMarkers(microglia_IEG_subcluster_il1)\n",
    "write.csv(microglia_IEG_subcluster_il1.markers, file = \"/home/adufour/work/table/microglia_IEG_subcluster_il1.DEG.csv\", row.names=TRUE)"
   ]
  },
  {
   "cell_type": "code",
   "execution_count": 8,
   "id": "ab9b3714-b69c-47b5-959f-ff551cedcad9",
   "metadata": {
    "vscode": {
     "languageId": "r"
    }
   },
   "outputs": [
    {
     "name": "stderr",
     "output_type": "stream",
     "text": [
      "Calculating cluster 0\n",
      "\n",
      "Calculating cluster 1\n",
      "\n"
     ]
    }
   ],
   "source": [
    "microglia_HOM_subcluster_il1.markers <- FindAllMarkers(microglia_HOM_subcluster_il1)\n",
    "write.csv(microglia_HOM_subcluster_il1.markers, file = \"/home/adufour/work/table/microglia_HOM_subcluster_il1.markers.DEG.csv\", row.names=TRUE)"
   ]
  },
  {
   "cell_type": "code",
   "execution_count": 9,
   "id": "b403cad9-8bd9-490f-ae84-e2bfa048d12e",
   "metadata": {
    "vscode": {
     "languageId": "r"
    }
   },
   "outputs": [
    {
     "name": "stderr",
     "output_type": "stream",
     "text": [
      "Calculating cluster 0\n",
      "\n",
      "Calculating cluster 1\n",
      "\n",
      "Calculating cluster 2\n",
      "\n"
     ]
    }
   ],
   "source": [
    "microglia_MACS_subcluster_il1.markers <- FindAllMarkers(microglia_MACS_subcluster_il1)\n",
    "write.csv(microglia_MACS_subcluster_il1.markers, file = \"/home/adufour/work/table/microglia_MACS_subcluster_il1.markers.DEG.csv\", row.names=TRUE)"
   ]
  },
  {
   "cell_type": "markdown",
   "id": "00be3781",
   "metadata": {},
   "source": [
    "For every post-natal days make DEG with the other clusters"
   ]
  },
  {
   "cell_type": "code",
   "execution_count": 10,
   "id": "6ea64534-76b4-4ced-8e79-9bfa1d46d228",
   "metadata": {
    "vscode": {
     "languageId": "r"
    }
   },
   "outputs": [],
   "source": [
    "for (i in unique(microglia_IEG_subcluster_il1@meta.data$seurat_clusters)) {\n",
    "    Idents(microglia_IEG_subcluster_il1) <- \"seurat_clusters\"\n",
    "    microglia_IEG_subcluster_il1_P1_markers <- FindMarkers(microglia_IEG_subcluster_il1, ident.1 = \"P1\", group.by = 'PND', subset.ident = i)\n",
    "    write.csv(microglia_IEG_subcluster_il1_P1_markers, file = paste0(\"/home/adufour/work/table/microglia_IEG_subcluster_il1_P1_\", i, \".csv\"), row.names=TRUE)\n",
    "    microglia_IEG_subcluster_il1_P3_markers <- FindMarkers(microglia_IEG_subcluster_il1, ident.1 = \"P3\", group.by = 'PND', subset.ident = i)\n",
    "    write.csv(microglia_IEG_subcluster_il1_P3_markers, file = paste0(\"/home/adufour/work/table/microglia_IEG_subcluster_il1_P3_\", i, \".csv\"), row.names=TRUE)\n",
    "    microglia_IEG_subcluster_il1_P5_markers <- FindMarkers(microglia_IEG_subcluster_il1, ident.1 = \"P5\", group.by = 'PND', subset.ident = i)\n",
    "    write.csv(microglia_IEG_subcluster_il1_P5_markers, file = paste0(\"/home/adufour/work/table/microglia_IEG_subcluster_il1_P5_\", i, \".csv\"), row.names=TRUE)\n",
    "}"
   ]
  },
  {
   "cell_type": "code",
   "execution_count": 11,
   "id": "a38f24c0-15eb-46be-b764-07d655bce8c0",
   "metadata": {
    "vscode": {
     "languageId": "r"
    }
   },
   "outputs": [],
   "source": [
    "for (i in unique(microglia_HOM_subcluster_il1@meta.data$seurat_clusters)) {\n",
    "    Idents(microglia_HOM_subcluster_il1) <- \"seurat_clusters\"\n",
    "    microglia_HOM_subcluster_il1_P1_markers <- FindMarkers(microglia_HOM_subcluster_il1, ident.1 = \"P1\", group.by = 'PND', subset.ident = i)\n",
    "    write.csv(microglia_HOM_subcluster_il1_P1_markers, file = paste0(\"/home/adufour/work/table/microglia_HOM_subcluster_il1_P1_\", i, \".csv\"), row.names=TRUE)\n",
    "    microglia_HOM_subcluster_il1_P3_markers <- FindMarkers(microglia_HOM_subcluster_il1, ident.1 = \"P3\", group.by = 'PND', subset.ident = i)\n",
    "    write.csv(microglia_HOM_subcluster_il1_P3_markers, file = paste0(\"/home/adufour/work/table/microglia_HOM_subcluster_il1_P3_\", i, \".csv\"), row.names=TRUE)\n",
    "    microglia_HOM_subcluster_il1_P5_markers <- FindMarkers(microglia_HOM_subcluster_il1, ident.1 = \"P5\", group.by = 'PND', subset.ident = i)\n",
    "    write.csv(microglia_HOM_subcluster_il1_P5_markers, file = paste0(\"/home/adufour/work/table/microglia_HOM_subcluster_il1_P5_\", i, \".csv\"), row.names=TRUE)\n",
    "}"
   ]
  },
  {
   "cell_type": "code",
   "execution_count": 12,
   "id": "75d82cb6-8388-4e0b-ac06-de5f14f4d522",
   "metadata": {
    "vscode": {
     "languageId": "r"
    }
   },
   "outputs": [],
   "source": [
    "for (i in unique(microglia_MACS_subcluster_il1@meta.data$seurat_clusters)) {\n",
    "    Idents(microglia_MACS_subcluster_il1) <- \"seurat_clusters\"\n",
    "    microglia_MACS_subcluster_il1_P1_markers <- FindMarkers(microglia_MACS_subcluster_il1, ident.1 = \"P1\", group.by = 'PND', subset.ident = i)\n",
    "    write.csv(microglia_MACS_subcluster_il1_P1_markers, file = paste0(\"/home/adufour/work/table/microglia_MACS_subcluster_il1_P1_\", i, \".csv\"), row.names=TRUE)\n",
    "    microglia_MACS_subcluster_il1_P3_markers <- FindMarkers(microglia_MACS_subcluster_il1, ident.1 = \"P3\", group.by = 'PND', subset.ident = i)\n",
    "    write.csv(microglia_MACS_subcluster_il1_P3_markers, file = paste0(\"/home/adufour/work/table/microglia_MACS_subcluster_il1_P3_\", i, \".csv\"), row.names=TRUE)\n",
    "    microglia_MACS_subcluster_il1_P5_markers <- FindMarkers(microglia_MACS_subcluster_il1, ident.1 = \"P5\", group.by = 'PND', subset.ident = i)\n",
    "    write.csv(microglia_MACS_subcluster_il1_P5_markers, file = paste0(\"/home/adufour/work/table/microglia_MACS_subcluster_il1_P5_\", i, \".csv\"), row.names=TRUE)\n",
    "}"
   ]
  },
  {
   "cell_type": "code",
   "execution_count": 13,
   "id": "67fc8fa0-d9b7-43e7-9b21-83f83e182302",
   "metadata": {
    "vscode": {
     "languageId": "r"
    }
   },
   "outputs": [
    {
     "name": "stdout",
     "output_type": "stream",
     "text": [
      "Error in WhichCells.Seurat(object = object, idents = ident.1) : \n",
      "  Cannot find the following identities in the object: P1\n",
      "Error in as.data.frame.default(x[[i]], optional = TRUE, stringsAsFactors = stringsAsFactors) : \n",
      "  impossible de convertir automatiquement la classe ‘\"try-error\"’ en un tableau de données (data.frame)\n",
      "Error in ValidateCellGroups(object = object, cells.1 = cells.1, cells.2 = cells.2,  : \n",
      "  Cell group 1 has fewer than 3 cells\n",
      "Error in as.data.frame.default(x[[i]], optional = TRUE, stringsAsFactors = stringsAsFactors) : \n",
      "  impossible de convertir automatiquement la classe ‘\"try-error\"’ en un tableau de données (data.frame)\n",
      "Error in ValidateCellGroups(object = object, cells.1 = cells.1, cells.2 = cells.2,  : \n",
      "  Cell group 2 has fewer than 3 cells\n",
      "Error in as.data.frame.default(x[[i]], optional = TRUE, stringsAsFactors = stringsAsFactors) : \n",
      "  impossible de convertir automatiquement la classe ‘\"try-error\"’ en un tableau de données (data.frame)\n",
      "Error in ValidateCellGroups(object = object, cells.1 = cells.1, cells.2 = cells.2,  : \n",
      "  Cell group 1 has fewer than 3 cells\n",
      "Error in as.data.frame.default(x[[i]], optional = TRUE, stringsAsFactors = stringsAsFactors) : \n",
      "  impossible de convertir automatiquement la classe ‘\"try-error\"’ en un tableau de données (data.frame)\n"
     ]
    }
   ],
   "source": [
    "for (i in unique(microglia_allcells_il1@meta.data$seurat_clusters)) {\n",
    "    Idents(microglia_allcells_il1) <- \"seurat_clusters\"\n",
    "    microglia_allcells_il1_P1_markers <- try(FindMarkers(microglia_allcells_il1, ident.1 = \"P1\", group.by = 'PND', subset.ident = i))\n",
    "    try(write.csv(microglia_allcells_il1_P1_markers, file = paste0(\"/home/adufour/work/table/microglia_allcells_il1_P1_\", i, \".csv\"), row.names=TRUE))\n",
    "    microglia_allcells_il1_P3_markers <- try(FindMarkers(microglia_allcells_il1, ident.1 = \"P3\", group.by = 'PND', subset.ident = i))\n",
    "    try(write.csv(microglia_allcells_il1_P3_markers, file = paste0(\"/home/adufour/work/table/microglia_allcells_il1_P3_\", i, \".csv\"), row.names=TRUE))\n",
    "    microglia_allcells_il1_P5_markers <- try(FindMarkers(microglia_allcells_il1, ident.1 = \"P5\", group.by = 'PND', subset.ident = i))\n",
    "    try(write.csv(microglia_allcells_il1_P5_markers, file = paste0(\"/home/adufour/work/table/microglia_allcells_il1_P5_\", i, \".csv\"), row.names=TRUE))\n",
    "}"
   ]
  }
 ],
 "metadata": {
  "kernelspec": {
   "display_name": "R [conda env:microglia]",
   "language": "R",
   "name": "conda-env-microglia-r"
  },
  "language_info": {
   "codemirror_mode": "r",
   "file_extension": ".r",
   "mimetype": "text/x-r-source",
   "name": "R",
   "pygments_lexer": "r",
   "version": "4.1.3"
  }
 },
 "nbformat": 4,
 "nbformat_minor": 5
}
