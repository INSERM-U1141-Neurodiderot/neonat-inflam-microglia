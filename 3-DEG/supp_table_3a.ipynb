{
 "cells": [
  {
   "cell_type": "markdown",
   "id": "5a775e17",
   "metadata": {},
   "source": [
    "loading package and seurat object"
   ]
  },
  {
   "cell_type": "code",
   "execution_count": 1,
   "id": "34feb3ce-4077-40d6-aeb9-f2021d6ce0a4",
   "metadata": {
    "vscode": {
     "languageId": "r"
    }
   },
   "outputs": [
    {
     "name": "stderr",
     "output_type": "stream",
     "text": [
      "Attaching SeuratObject\n",
      "\n",
      "\n",
      "Attachement du package : ‘dplyr’\n",
      "\n",
      "\n",
      "Les objets suivants sont masqués depuis ‘package:stats’:\n",
      "\n",
      "    filter, lag\n",
      "\n",
      "\n",
      "Les objets suivants sont masqués depuis ‘package:base’:\n",
      "\n",
      "    intersect, setdiff, setequal, union\n",
      "\n",
      "\n"
     ]
    }
   ],
   "source": [
    "library(Seurat)\n",
    "library(dplyr)"
   ]
  },
  {
   "cell_type": "code",
   "execution_count": 2,
   "id": "1456ed22-a223-490f-9a74-c5773fac51b8",
   "metadata": {
    "vscode": {
     "languageId": "r"
    }
   },
   "outputs": [],
   "source": [
    "microglia_IEG_subcluster <- readRDS(\"/home/adufour/work/rds_storage/microglia/microglia_IEG.rds\")\n",
    "microglia_HOM_subcluster <- readRDS(\"/home/adufour/work/rds_storage/microglia/microglia_HOM.rds\")\n",
    "microglia_MACS_subcluster <- readRDS(\"/home/adufour/work/rds_storage/microglia/microglia_MACS.rds\")\n",
    "microglia_immune_allcells <- readRDS(\"/home/adufour/work/rds_storage/microglia/microglia.rds\")"
   ]
  },
  {
   "cell_type": "markdown",
   "id": "b3e7dd8f",
   "metadata": {},
   "source": [
    "Add subtype information"
   ]
  },
  {
   "cell_type": "code",
   "execution_count": 3,
   "id": "ea612fee-e82b-4673-b9ca-53442a51f0b9",
   "metadata": {
    "vscode": {
     "languageId": "r"
    }
   },
   "outputs": [],
   "source": [
    "microglia_IEG_subcluster@meta.data$cs <- paste0(microglia_IEG_subcluster@meta.data$seurat_clusters, \"_\", microglia_IEG_subcluster@meta.data$STIM)\n",
    "microglia_IEG_subcluster@meta.data$cst <- paste0(microglia_IEG_subcluster@meta.data$seurat_clusters, \"_\", microglia_IEG_subcluster@meta.data$STIM, \"_\", microglia_IEG_subcluster@meta.data$PND)\n",
    "microglia_IEG_subcluster@meta.data$ct <- paste0(microglia_IEG_subcluster@meta.data$seurat_clusters, \"_\", microglia_IEG_subcluster@meta.data$PND)\n",
    "\n",
    "microglia_HOM_subcluster@meta.data$cs <- paste0(microglia_HOM_subcluster@meta.data$seurat_clusters, \"_\", microglia_HOM_subcluster@meta.data$STIM)\n",
    "microglia_HOM_subcluster@meta.data$cst <- paste0(microglia_HOM_subcluster@meta.data$seurat_clusters, \"_\", microglia_HOM_subcluster@meta.data$STIM, \"_\", microglia_HOM_subcluster@meta.data$PND)\n",
    "microglia_HOM_subcluster@meta.data$ct <- paste0(microglia_HOM_subcluster@meta.data$seurat_clusters, \"_\", microglia_HOM_subcluster@meta.data$PND)\n",
    "\n",
    "microglia_MACS_subcluster@meta.data$cs <- paste0(microglia_MACS_subcluster@meta.data$seurat_clusters, \"_\", microglia_MACS_subcluster@meta.data$STIM)\n",
    "microglia_MACS_subcluster@meta.data$cst <- paste0(microglia_MACS_subcluster@meta.data$seurat_clusters, \"_\", microglia_MACS_subcluster@meta.data$STIM, \"_\", microglia_MACS_subcluster@meta.data$PND)\n",
    "microglia_MACS_subcluster@meta.data$ct <- paste0(microglia_MACS_subcluster@meta.data$seurat_clusters, \"_\", microglia_MACS_subcluster@meta.data$PND)\n",
    "\n",
    "microglia_immune_allcells@meta.data$cs <- paste0(microglia_immune_allcells@meta.data$seurat_clusters, \"_\", microglia_immune_allcells@meta.data$STIM)\n",
    "microglia_immune_allcells@meta.data$cst <- paste0(microglia_immune_allcells@meta.data$seurat_clusters, \"_\", microglia_immune_allcells@meta.data$STIM, \"_\", microglia_immune_allcells@meta.data$PND)\n",
    "microglia_immune_allcells@meta.data$ct <- paste0(microglia_immune_allcells@meta.data$seurat_clusters, \"_\", microglia_immune_allcells@meta.data$PND)"
   ]
  },
  {
   "cell_type": "markdown",
   "id": "6a59f299",
   "metadata": {},
   "source": [
    "Compare cluster by condition"
   ]
  },
  {
   "cell_type": "code",
   "execution_count": 5,
   "id": "2567b953-1865-48f9-a290-f04e6080faa6",
   "metadata": {
    "vscode": {
     "languageId": "r"
    }
   },
   "outputs": [],
   "source": [
    "Idents(microglia_immune_allcells) <- \"STIM\""
   ]
  },
  {
   "cell_type": "code",
   "execution_count": 6,
   "id": "e556f73d-a707-4f92-880e-b3f960f41c0a",
   "metadata": {
    "vscode": {
     "languageId": "r"
    }
   },
   "outputs": [
    {
     "name": "stderr",
     "output_type": "stream",
     "text": [
      "Calculating cluster pbs\n",
      "\n",
      "Calculating cluster il1\n",
      "\n"
     ]
    }
   ],
   "source": [
    "microglia_immune_allcells.markers_STIM <- FindAllMarkers(microglia_immune_allcells)"
   ]
  },
  {
   "cell_type": "code",
   "execution_count": 9,
   "id": "5d93d241-12eb-4fe8-b020-2e9cd5cdbddf",
   "metadata": {
    "vscode": {
     "languageId": "r"
    }
   },
   "outputs": [],
   "source": [
    "write.csv(microglia_immune_allcells.markers_STIM, \"/home/adufour/work/table/microglia_immune_allcells.markers_STIM.csv\", row.names=FALSE)"
   ]
  },
  {
   "cell_type": "markdown",
   "id": "576ddabf",
   "metadata": {},
   "source": [
    "Compare all clusters"
   ]
  },
  {
   "cell_type": "code",
   "execution_count": 6,
   "id": "4237db63-1e8d-4cb4-a6cd-3c76fe972de1",
   "metadata": {
    "vscode": {
     "languageId": "r"
    }
   },
   "outputs": [
    {
     "name": "stderr",
     "output_type": "stream",
     "text": [
      "Calculating cluster 0\n",
      "\n",
      "Calculating cluster 1\n",
      "\n",
      "Calculating cluster 2\n",
      "\n",
      "Calculating cluster 3\n",
      "\n",
      "Calculating cluster 4\n",
      "\n",
      "Calculating cluster 5\n",
      "\n",
      "Calculating cluster 6\n",
      "\n",
      "Calculating cluster 7\n",
      "\n",
      "Calculating cluster 8\n",
      "\n",
      "Calculating cluster 9\n",
      "\n",
      "Calculating cluster 10\n",
      "\n",
      "Calculating cluster 11\n",
      "\n"
     ]
    },
    {
     "data": {
      "text/html": [
       "<table class=\"dataframe\">\n",
       "<caption>A grouped_df: 24 × 7</caption>\n",
       "<thead>\n",
       "\t<tr><th scope=col>p_val</th><th scope=col>avg_log2FC</th><th scope=col>pct.1</th><th scope=col>pct.2</th><th scope=col>p_val_adj</th><th scope=col>cluster</th><th scope=col>gene</th></tr>\n",
       "\t<tr><th scope=col>&lt;dbl&gt;</th><th scope=col>&lt;dbl&gt;</th><th scope=col>&lt;dbl&gt;</th><th scope=col>&lt;dbl&gt;</th><th scope=col>&lt;dbl&gt;</th><th scope=col>&lt;fct&gt;</th><th scope=col>&lt;chr&gt;</th></tr>\n",
       "</thead>\n",
       "<tbody>\n",
       "\t<tr><td> 0.000000e+00</td><td>1.293555</td><td>0.848</td><td>0.466</td><td> 0.000000e+00</td><td>0 </td><td>Egr1  </td></tr>\n",
       "\t<tr><td> 0.000000e+00</td><td>1.093052</td><td>0.651</td><td>0.360</td><td> 0.000000e+00</td><td>0 </td><td>Rhob  </td></tr>\n",
       "\t<tr><td> 0.000000e+00</td><td>3.568166</td><td>0.743</td><td>0.110</td><td> 0.000000e+00</td><td>1 </td><td>Lyve1 </td></tr>\n",
       "\t<tr><td> 0.000000e+00</td><td>3.068882</td><td>0.850</td><td>0.257</td><td> 0.000000e+00</td><td>1 </td><td>Mrc1  </td></tr>\n",
       "\t<tr><td> 0.000000e+00</td><td>1.050089</td><td>0.611</td><td>0.512</td><td> 0.000000e+00</td><td>2 </td><td>Rps6  </td></tr>\n",
       "\t<tr><td> 0.000000e+00</td><td>1.028973</td><td>0.806</td><td>0.704</td><td> 0.000000e+00</td><td>2 </td><td>Rplp0 </td></tr>\n",
       "\t<tr><td> 0.000000e+00</td><td>2.309799</td><td>0.426</td><td>0.040</td><td> 0.000000e+00</td><td>3 </td><td>Top2a </td></tr>\n",
       "\t<tr><td> 0.000000e+00</td><td>2.251357</td><td>0.419</td><td>0.048</td><td> 0.000000e+00</td><td>3 </td><td>Mki67 </td></tr>\n",
       "\t<tr><td> 0.000000e+00</td><td>6.317385</td><td>0.806</td><td>0.075</td><td> 0.000000e+00</td><td>4 </td><td>S100a9</td></tr>\n",
       "\t<tr><td> 0.000000e+00</td><td>6.096011</td><td>0.790</td><td>0.068</td><td> 0.000000e+00</td><td>4 </td><td>S100a8</td></tr>\n",
       "\t<tr><td> 0.000000e+00</td><td>3.593977</td><td>0.769</td><td>0.212</td><td> 0.000000e+00</td><td>5 </td><td>Spp1  </td></tr>\n",
       "\t<tr><td> 0.000000e+00</td><td>2.884462</td><td>0.668</td><td>0.085</td><td> 0.000000e+00</td><td>5 </td><td>Fabp5 </td></tr>\n",
       "\t<tr><td> 0.000000e+00</td><td>4.262131</td><td>0.364</td><td>0.031</td><td> 0.000000e+00</td><td>6 </td><td>Cd74  </td></tr>\n",
       "\t<tr><td> 0.000000e+00</td><td>3.609929</td><td>0.230</td><td>0.006</td><td> 0.000000e+00</td><td>6 </td><td>H2.Aa </td></tr>\n",
       "\t<tr><td>1.421161e-286</td><td>2.092577</td><td>0.778</td><td>0.220</td><td>3.793505e-282</td><td>7 </td><td>Hmgb2 </td></tr>\n",
       "\t<tr><td> 0.000000e+00</td><td>2.090297</td><td>0.595</td><td>0.084</td><td> 0.000000e+00</td><td>7 </td><td>Mki67 </td></tr>\n",
       "\t<tr><td> 0.000000e+00</td><td>4.969257</td><td>0.781</td><td>0.024</td><td> 0.000000e+00</td><td>8 </td><td>Cldn5 </td></tr>\n",
       "\t<tr><td> 0.000000e+00</td><td>4.311825</td><td>0.609</td><td>0.009</td><td> 0.000000e+00</td><td>8 </td><td>Igfbp7</td></tr>\n",
       "\t<tr><td>1.558743e-174</td><td>4.889237</td><td>0.287</td><td>0.041</td><td>4.160753e-170</td><td>9 </td><td>Meg3  </td></tr>\n",
       "\t<tr><td> 0.000000e+00</td><td>4.709221</td><td>0.474</td><td>0.031</td><td> 0.000000e+00</td><td>9 </td><td>Fabp7 </td></tr>\n",
       "\t<tr><td> 0.000000e+00</td><td>6.589518</td><td>0.427</td><td>0.025</td><td> 0.000000e+00</td><td>10</td><td>Ptgds </td></tr>\n",
       "\t<tr><td> 0.000000e+00</td><td>5.054303</td><td>0.685</td><td>0.023</td><td> 0.000000e+00</td><td>10</td><td>Igf2  </td></tr>\n",
       "\t<tr><td> 0.000000e+00</td><td>9.600801</td><td>0.993</td><td>0.049</td><td> 0.000000e+00</td><td>11</td><td>Ttr   </td></tr>\n",
       "\t<tr><td> 0.000000e+00</td><td>5.256014</td><td>0.832</td><td>0.013</td><td> 0.000000e+00</td><td>11</td><td>Enpp2 </td></tr>\n",
       "</tbody>\n",
       "</table>\n"
      ],
      "text/latex": [
       "A grouped\\_df: 24 × 7\n",
       "\\begin{tabular}{lllllll}\n",
       " p\\_val & avg\\_log2FC & pct.1 & pct.2 & p\\_val\\_adj & cluster & gene\\\\\n",
       " <dbl> & <dbl> & <dbl> & <dbl> & <dbl> & <fct> & <chr>\\\\\n",
       "\\hline\n",
       "\t  0.000000e+00 & 1.293555 & 0.848 & 0.466 &  0.000000e+00 & 0  & Egr1  \\\\\n",
       "\t  0.000000e+00 & 1.093052 & 0.651 & 0.360 &  0.000000e+00 & 0  & Rhob  \\\\\n",
       "\t  0.000000e+00 & 3.568166 & 0.743 & 0.110 &  0.000000e+00 & 1  & Lyve1 \\\\\n",
       "\t  0.000000e+00 & 3.068882 & 0.850 & 0.257 &  0.000000e+00 & 1  & Mrc1  \\\\\n",
       "\t  0.000000e+00 & 1.050089 & 0.611 & 0.512 &  0.000000e+00 & 2  & Rps6  \\\\\n",
       "\t  0.000000e+00 & 1.028973 & 0.806 & 0.704 &  0.000000e+00 & 2  & Rplp0 \\\\\n",
       "\t  0.000000e+00 & 2.309799 & 0.426 & 0.040 &  0.000000e+00 & 3  & Top2a \\\\\n",
       "\t  0.000000e+00 & 2.251357 & 0.419 & 0.048 &  0.000000e+00 & 3  & Mki67 \\\\\n",
       "\t  0.000000e+00 & 6.317385 & 0.806 & 0.075 &  0.000000e+00 & 4  & S100a9\\\\\n",
       "\t  0.000000e+00 & 6.096011 & 0.790 & 0.068 &  0.000000e+00 & 4  & S100a8\\\\\n",
       "\t  0.000000e+00 & 3.593977 & 0.769 & 0.212 &  0.000000e+00 & 5  & Spp1  \\\\\n",
       "\t  0.000000e+00 & 2.884462 & 0.668 & 0.085 &  0.000000e+00 & 5  & Fabp5 \\\\\n",
       "\t  0.000000e+00 & 4.262131 & 0.364 & 0.031 &  0.000000e+00 & 6  & Cd74  \\\\\n",
       "\t  0.000000e+00 & 3.609929 & 0.230 & 0.006 &  0.000000e+00 & 6  & H2.Aa \\\\\n",
       "\t 1.421161e-286 & 2.092577 & 0.778 & 0.220 & 3.793505e-282 & 7  & Hmgb2 \\\\\n",
       "\t  0.000000e+00 & 2.090297 & 0.595 & 0.084 &  0.000000e+00 & 7  & Mki67 \\\\\n",
       "\t  0.000000e+00 & 4.969257 & 0.781 & 0.024 &  0.000000e+00 & 8  & Cldn5 \\\\\n",
       "\t  0.000000e+00 & 4.311825 & 0.609 & 0.009 &  0.000000e+00 & 8  & Igfbp7\\\\\n",
       "\t 1.558743e-174 & 4.889237 & 0.287 & 0.041 & 4.160753e-170 & 9  & Meg3  \\\\\n",
       "\t  0.000000e+00 & 4.709221 & 0.474 & 0.031 &  0.000000e+00 & 9  & Fabp7 \\\\\n",
       "\t  0.000000e+00 & 6.589518 & 0.427 & 0.025 &  0.000000e+00 & 10 & Ptgds \\\\\n",
       "\t  0.000000e+00 & 5.054303 & 0.685 & 0.023 &  0.000000e+00 & 10 & Igf2  \\\\\n",
       "\t  0.000000e+00 & 9.600801 & 0.993 & 0.049 &  0.000000e+00 & 11 & Ttr   \\\\\n",
       "\t  0.000000e+00 & 5.256014 & 0.832 & 0.013 &  0.000000e+00 & 11 & Enpp2 \\\\\n",
       "\\end{tabular}\n"
      ],
      "text/markdown": [
       "\n",
       "A grouped_df: 24 × 7\n",
       "\n",
       "| p_val &lt;dbl&gt; | avg_log2FC &lt;dbl&gt; | pct.1 &lt;dbl&gt; | pct.2 &lt;dbl&gt; | p_val_adj &lt;dbl&gt; | cluster &lt;fct&gt; | gene &lt;chr&gt; |\n",
       "|---|---|---|---|---|---|---|\n",
       "|  0.000000e+00 | 1.293555 | 0.848 | 0.466 |  0.000000e+00 | 0  | Egr1   |\n",
       "|  0.000000e+00 | 1.093052 | 0.651 | 0.360 |  0.000000e+00 | 0  | Rhob   |\n",
       "|  0.000000e+00 | 3.568166 | 0.743 | 0.110 |  0.000000e+00 | 1  | Lyve1  |\n",
       "|  0.000000e+00 | 3.068882 | 0.850 | 0.257 |  0.000000e+00 | 1  | Mrc1   |\n",
       "|  0.000000e+00 | 1.050089 | 0.611 | 0.512 |  0.000000e+00 | 2  | Rps6   |\n",
       "|  0.000000e+00 | 1.028973 | 0.806 | 0.704 |  0.000000e+00 | 2  | Rplp0  |\n",
       "|  0.000000e+00 | 2.309799 | 0.426 | 0.040 |  0.000000e+00 | 3  | Top2a  |\n",
       "|  0.000000e+00 | 2.251357 | 0.419 | 0.048 |  0.000000e+00 | 3  | Mki67  |\n",
       "|  0.000000e+00 | 6.317385 | 0.806 | 0.075 |  0.000000e+00 | 4  | S100a9 |\n",
       "|  0.000000e+00 | 6.096011 | 0.790 | 0.068 |  0.000000e+00 | 4  | S100a8 |\n",
       "|  0.000000e+00 | 3.593977 | 0.769 | 0.212 |  0.000000e+00 | 5  | Spp1   |\n",
       "|  0.000000e+00 | 2.884462 | 0.668 | 0.085 |  0.000000e+00 | 5  | Fabp5  |\n",
       "|  0.000000e+00 | 4.262131 | 0.364 | 0.031 |  0.000000e+00 | 6  | Cd74   |\n",
       "|  0.000000e+00 | 3.609929 | 0.230 | 0.006 |  0.000000e+00 | 6  | H2.Aa  |\n",
       "| 1.421161e-286 | 2.092577 | 0.778 | 0.220 | 3.793505e-282 | 7  | Hmgb2  |\n",
       "|  0.000000e+00 | 2.090297 | 0.595 | 0.084 |  0.000000e+00 | 7  | Mki67  |\n",
       "|  0.000000e+00 | 4.969257 | 0.781 | 0.024 |  0.000000e+00 | 8  | Cldn5  |\n",
       "|  0.000000e+00 | 4.311825 | 0.609 | 0.009 |  0.000000e+00 | 8  | Igfbp7 |\n",
       "| 1.558743e-174 | 4.889237 | 0.287 | 0.041 | 4.160753e-170 | 9  | Meg3   |\n",
       "|  0.000000e+00 | 4.709221 | 0.474 | 0.031 |  0.000000e+00 | 9  | Fabp7  |\n",
       "|  0.000000e+00 | 6.589518 | 0.427 | 0.025 |  0.000000e+00 | 10 | Ptgds  |\n",
       "|  0.000000e+00 | 5.054303 | 0.685 | 0.023 |  0.000000e+00 | 10 | Igf2   |\n",
       "|  0.000000e+00 | 9.600801 | 0.993 | 0.049 |  0.000000e+00 | 11 | Ttr    |\n",
       "|  0.000000e+00 | 5.256014 | 0.832 | 0.013 |  0.000000e+00 | 11 | Enpp2  |\n",
       "\n"
      ],
      "text/plain": [
       "   p_val         avg_log2FC pct.1 pct.2 p_val_adj     cluster gene  \n",
       "1   0.000000e+00 1.293555   0.848 0.466  0.000000e+00 0       Egr1  \n",
       "2   0.000000e+00 1.093052   0.651 0.360  0.000000e+00 0       Rhob  \n",
       "3   0.000000e+00 3.568166   0.743 0.110  0.000000e+00 1       Lyve1 \n",
       "4   0.000000e+00 3.068882   0.850 0.257  0.000000e+00 1       Mrc1  \n",
       "5   0.000000e+00 1.050089   0.611 0.512  0.000000e+00 2       Rps6  \n",
       "6   0.000000e+00 1.028973   0.806 0.704  0.000000e+00 2       Rplp0 \n",
       "7   0.000000e+00 2.309799   0.426 0.040  0.000000e+00 3       Top2a \n",
       "8   0.000000e+00 2.251357   0.419 0.048  0.000000e+00 3       Mki67 \n",
       "9   0.000000e+00 6.317385   0.806 0.075  0.000000e+00 4       S100a9\n",
       "10  0.000000e+00 6.096011   0.790 0.068  0.000000e+00 4       S100a8\n",
       "11  0.000000e+00 3.593977   0.769 0.212  0.000000e+00 5       Spp1  \n",
       "12  0.000000e+00 2.884462   0.668 0.085  0.000000e+00 5       Fabp5 \n",
       "13  0.000000e+00 4.262131   0.364 0.031  0.000000e+00 6       Cd74  \n",
       "14  0.000000e+00 3.609929   0.230 0.006  0.000000e+00 6       H2.Aa \n",
       "15 1.421161e-286 2.092577   0.778 0.220 3.793505e-282 7       Hmgb2 \n",
       "16  0.000000e+00 2.090297   0.595 0.084  0.000000e+00 7       Mki67 \n",
       "17  0.000000e+00 4.969257   0.781 0.024  0.000000e+00 8       Cldn5 \n",
       "18  0.000000e+00 4.311825   0.609 0.009  0.000000e+00 8       Igfbp7\n",
       "19 1.558743e-174 4.889237   0.287 0.041 4.160753e-170 9       Meg3  \n",
       "20  0.000000e+00 4.709221   0.474 0.031  0.000000e+00 9       Fabp7 \n",
       "21  0.000000e+00 6.589518   0.427 0.025  0.000000e+00 10      Ptgds \n",
       "22  0.000000e+00 5.054303   0.685 0.023  0.000000e+00 10      Igf2  \n",
       "23  0.000000e+00 9.600801   0.993 0.049  0.000000e+00 11      Ttr   \n",
       "24  0.000000e+00 5.256014   0.832 0.013  0.000000e+00 11      Enpp2 "
      ]
     },
     "metadata": {},
     "output_type": "display_data"
    }
   ],
   "source": [
    "Idents(microglia_immune_allcells) <- \"seurat_clusters\"\n",
    "microglia_immune_allcells.markers <- FindAllMarkers(microglia_immune_allcells)"
   ]
  },
  {
   "cell_type": "code",
   "execution_count": 7,
   "id": "810f6308-edcc-4aa1-ab15-eb7a89c2d704",
   "metadata": {
    "vscode": {
     "languageId": "r"
    }
   },
   "outputs": [],
   "source": [
    "write.csv(microglia_immune_allcells.markers, file = \"/home/adufour/work/table/microglia_immune_allcells.markers.csv\", row.names=TRUE)"
   ]
  },
  {
   "cell_type": "code",
   "execution_count": 5,
   "id": "646a011a-f8d6-42c7-98fa-c408f83a9427",
   "metadata": {
    "vscode": {
     "languageId": "r"
    }
   },
   "outputs": [
    {
     "name": "stderr",
     "output_type": "stream",
     "text": [
      "Calculating cluster 0\n",
      "\n",
      "Calculating cluster 1\n",
      "\n",
      "Calculating cluster 2\n",
      "\n"
     ]
    },
    {
     "data": {
      "text/html": [
       "<table class=\"dataframe\">\n",
       "<caption>A grouped_df: 6 × 7</caption>\n",
       "<thead>\n",
       "\t<tr><th scope=col>p_val</th><th scope=col>avg_log2FC</th><th scope=col>pct.1</th><th scope=col>pct.2</th><th scope=col>p_val_adj</th><th scope=col>cluster</th><th scope=col>gene</th></tr>\n",
       "\t<tr><th scope=col>&lt;dbl&gt;</th><th scope=col>&lt;dbl&gt;</th><th scope=col>&lt;dbl&gt;</th><th scope=col>&lt;dbl&gt;</th><th scope=col>&lt;dbl&gt;</th><th scope=col>&lt;fct&gt;</th><th scope=col>&lt;chr&gt;</th></tr>\n",
       "</thead>\n",
       "<tbody>\n",
       "\t<tr><td> 1.481562e-35</td><td>0.4541239</td><td>0.786</td><td>0.839</td><td> 3.954733e-31</td><td>0</td><td>Malat1       </td></tr>\n",
       "\t<tr><td> 5.500333e-07</td><td>0.4383858</td><td>0.199</td><td>0.274</td><td> 1.468204e-02</td><td>0</td><td>Mfsd4a       </td></tr>\n",
       "\t<tr><td>1.788189e-184</td><td>0.6674026</td><td>0.176</td><td>0.034</td><td>4.773214e-180</td><td>1</td><td>Mcm6         </td></tr>\n",
       "\t<tr><td>1.406834e-252</td><td>0.6251695</td><td>0.286</td><td>0.065</td><td>3.755262e-248</td><td>1</td><td>RP23.145I16.3</td></tr>\n",
       "\t<tr><td>4.739473e-158</td><td>1.4494405</td><td>0.388</td><td>0.194</td><td>1.265107e-153</td><td>2</td><td>Spp1         </td></tr>\n",
       "\t<tr><td>3.196797e-123</td><td>1.2250213</td><td>0.287</td><td>0.129</td><td>8.533210e-119</td><td>2</td><td>Il1b         </td></tr>\n",
       "</tbody>\n",
       "</table>\n"
      ],
      "text/latex": [
       "A grouped\\_df: 6 × 7\n",
       "\\begin{tabular}{lllllll}\n",
       " p\\_val & avg\\_log2FC & pct.1 & pct.2 & p\\_val\\_adj & cluster & gene\\\\\n",
       " <dbl> & <dbl> & <dbl> & <dbl> & <dbl> & <fct> & <chr>\\\\\n",
       "\\hline\n",
       "\t  1.481562e-35 & 0.4541239 & 0.786 & 0.839 &  3.954733e-31 & 0 & Malat1       \\\\\n",
       "\t  5.500333e-07 & 0.4383858 & 0.199 & 0.274 &  1.468204e-02 & 0 & Mfsd4a       \\\\\n",
       "\t 1.788189e-184 & 0.6674026 & 0.176 & 0.034 & 4.773214e-180 & 1 & Mcm6         \\\\\n",
       "\t 1.406834e-252 & 0.6251695 & 0.286 & 0.065 & 3.755262e-248 & 1 & RP23.145I16.3\\\\\n",
       "\t 4.739473e-158 & 1.4494405 & 0.388 & 0.194 & 1.265107e-153 & 2 & Spp1         \\\\\n",
       "\t 3.196797e-123 & 1.2250213 & 0.287 & 0.129 & 8.533210e-119 & 2 & Il1b         \\\\\n",
       "\\end{tabular}\n"
      ],
      "text/markdown": [
       "\n",
       "A grouped_df: 6 × 7\n",
       "\n",
       "| p_val &lt;dbl&gt; | avg_log2FC &lt;dbl&gt; | pct.1 &lt;dbl&gt; | pct.2 &lt;dbl&gt; | p_val_adj &lt;dbl&gt; | cluster &lt;fct&gt; | gene &lt;chr&gt; |\n",
       "|---|---|---|---|---|---|---|\n",
       "|  1.481562e-35 | 0.4541239 | 0.786 | 0.839 |  3.954733e-31 | 0 | Malat1        |\n",
       "|  5.500333e-07 | 0.4383858 | 0.199 | 0.274 |  1.468204e-02 | 0 | Mfsd4a        |\n",
       "| 1.788189e-184 | 0.6674026 | 0.176 | 0.034 | 4.773214e-180 | 1 | Mcm6          |\n",
       "| 1.406834e-252 | 0.6251695 | 0.286 | 0.065 | 3.755262e-248 | 1 | RP23.145I16.3 |\n",
       "| 4.739473e-158 | 1.4494405 | 0.388 | 0.194 | 1.265107e-153 | 2 | Spp1          |\n",
       "| 3.196797e-123 | 1.2250213 | 0.287 | 0.129 | 8.533210e-119 | 2 | Il1b          |\n",
       "\n"
      ],
      "text/plain": [
       "  p_val         avg_log2FC pct.1 pct.2 p_val_adj     cluster gene         \n",
       "1  1.481562e-35 0.4541239  0.786 0.839  3.954733e-31 0       Malat1       \n",
       "2  5.500333e-07 0.4383858  0.199 0.274  1.468204e-02 0       Mfsd4a       \n",
       "3 1.788189e-184 0.6674026  0.176 0.034 4.773214e-180 1       Mcm6         \n",
       "4 1.406834e-252 0.6251695  0.286 0.065 3.755262e-248 1       RP23.145I16.3\n",
       "5 4.739473e-158 1.4494405  0.388 0.194 1.265107e-153 2       Spp1         \n",
       "6 3.196797e-123 1.2250213  0.287 0.129 8.533210e-119 2       Il1b         "
      ]
     },
     "metadata": {},
     "output_type": "display_data"
    }
   ],
   "source": [
    "microglia_IEG_subcluster.markers <- FindAllMarkers(microglia_IEG_subcluster)\n",
    "microglia_IEG_subcluster.markers %>%\n",
    "    group_by(cluster) %>%\n",
    "    slice_max(n = 2, order_by = avg_log2FC)\n",
    "write.csv(microglia_IEG_subcluster.markers, file = \"/home/adufour/work/table/microglia_IEG_subcluster.DEG.csv\", row.names=TRUE)"
   ]
  },
  {
   "cell_type": "code",
   "execution_count": 6,
   "id": "ab9b3714-b69c-47b5-959f-ff551cedcad9",
   "metadata": {
    "vscode": {
     "languageId": "r"
    }
   },
   "outputs": [
    {
     "name": "stderr",
     "output_type": "stream",
     "text": [
      "Calculating cluster 0\n",
      "\n",
      "Calculating cluster 1\n",
      "\n"
     ]
    },
    {
     "data": {
      "text/html": [
       "<table class=\"dataframe\">\n",
       "<caption>A grouped_df: 4 × 7</caption>\n",
       "<thead>\n",
       "\t<tr><th scope=col>p_val</th><th scope=col>avg_log2FC</th><th scope=col>pct.1</th><th scope=col>pct.2</th><th scope=col>p_val_adj</th><th scope=col>cluster</th><th scope=col>gene</th></tr>\n",
       "\t<tr><th scope=col>&lt;dbl&gt;</th><th scope=col>&lt;dbl&gt;</th><th scope=col>&lt;dbl&gt;</th><th scope=col>&lt;dbl&gt;</th><th scope=col>&lt;dbl&gt;</th><th scope=col>&lt;fct&gt;</th><th scope=col>&lt;chr&gt;</th></tr>\n",
       "</thead>\n",
       "<tbody>\n",
       "\t<tr><td>4.290254e-76</td><td>1.117094</td><td>0.602</td><td>0.354</td><td>1.145197e-71</td><td>0</td><td>Rps18.ps3</td></tr>\n",
       "\t<tr><td>6.390880e-79</td><td>1.089844</td><td>0.646</td><td>0.391</td><td>1.705918e-74</td><td>0</td><td>Rps6     </td></tr>\n",
       "\t<tr><td>0.000000e+00</td><td>2.675447</td><td>0.707</td><td>0.163</td><td>0.000000e+00</td><td>1</td><td>Malat1   </td></tr>\n",
       "\t<tr><td>0.000000e+00</td><td>2.572445</td><td>0.412</td><td>0.035</td><td>0.000000e+00</td><td>1</td><td>Spc24    </td></tr>\n",
       "</tbody>\n",
       "</table>\n"
      ],
      "text/latex": [
       "A grouped\\_df: 4 × 7\n",
       "\\begin{tabular}{lllllll}\n",
       " p\\_val & avg\\_log2FC & pct.1 & pct.2 & p\\_val\\_adj & cluster & gene\\\\\n",
       " <dbl> & <dbl> & <dbl> & <dbl> & <dbl> & <fct> & <chr>\\\\\n",
       "\\hline\n",
       "\t 4.290254e-76 & 1.117094 & 0.602 & 0.354 & 1.145197e-71 & 0 & Rps18.ps3\\\\\n",
       "\t 6.390880e-79 & 1.089844 & 0.646 & 0.391 & 1.705918e-74 & 0 & Rps6     \\\\\n",
       "\t 0.000000e+00 & 2.675447 & 0.707 & 0.163 & 0.000000e+00 & 1 & Malat1   \\\\\n",
       "\t 0.000000e+00 & 2.572445 & 0.412 & 0.035 & 0.000000e+00 & 1 & Spc24    \\\\\n",
       "\\end{tabular}\n"
      ],
      "text/markdown": [
       "\n",
       "A grouped_df: 4 × 7\n",
       "\n",
       "| p_val &lt;dbl&gt; | avg_log2FC &lt;dbl&gt; | pct.1 &lt;dbl&gt; | pct.2 &lt;dbl&gt; | p_val_adj &lt;dbl&gt; | cluster &lt;fct&gt; | gene &lt;chr&gt; |\n",
       "|---|---|---|---|---|---|---|\n",
       "| 4.290254e-76 | 1.117094 | 0.602 | 0.354 | 1.145197e-71 | 0 | Rps18.ps3 |\n",
       "| 6.390880e-79 | 1.089844 | 0.646 | 0.391 | 1.705918e-74 | 0 | Rps6      |\n",
       "| 0.000000e+00 | 2.675447 | 0.707 | 0.163 | 0.000000e+00 | 1 | Malat1    |\n",
       "| 0.000000e+00 | 2.572445 | 0.412 | 0.035 | 0.000000e+00 | 1 | Spc24     |\n",
       "\n"
      ],
      "text/plain": [
       "  p_val        avg_log2FC pct.1 pct.2 p_val_adj    cluster gene     \n",
       "1 4.290254e-76 1.117094   0.602 0.354 1.145197e-71 0       Rps18.ps3\n",
       "2 6.390880e-79 1.089844   0.646 0.391 1.705918e-74 0       Rps6     \n",
       "3 0.000000e+00 2.675447   0.707 0.163 0.000000e+00 1       Malat1   \n",
       "4 0.000000e+00 2.572445   0.412 0.035 0.000000e+00 1       Spc24    "
      ]
     },
     "metadata": {},
     "output_type": "display_data"
    }
   ],
   "source": [
    "microglia_HOM_subcluster.markers <- FindAllMarkers(microglia_HOM_subcluster)\n",
    "microglia_HOM_subcluster.markers %>%\n",
    "    group_by(cluster) %>%\n",
    "    slice_max(n = 2, order_by = avg_log2FC)\n",
    "write.csv(microglia_HOM_subcluster.markers, file = \"/home/adufour/work/table/microglia_HOM_subcluster.DEG.csv\", row.names=TRUE)"
   ]
  },
  {
   "cell_type": "code",
   "execution_count": 7,
   "id": "b403cad9-8bd9-490f-ae84-e2bfa048d12e",
   "metadata": {
    "vscode": {
     "languageId": "r"
    }
   },
   "outputs": [
    {
     "name": "stderr",
     "output_type": "stream",
     "text": [
      "Calculating cluster 0\n",
      "\n",
      "Calculating cluster 1\n",
      "\n",
      "Calculating cluster 2\n",
      "\n"
     ]
    },
    {
     "data": {
      "text/html": [
       "<table class=\"dataframe\">\n",
       "<caption>A grouped_df: 6 × 7</caption>\n",
       "<thead>\n",
       "\t<tr><th scope=col>p_val</th><th scope=col>avg_log2FC</th><th scope=col>pct.1</th><th scope=col>pct.2</th><th scope=col>p_val_adj</th><th scope=col>cluster</th><th scope=col>gene</th></tr>\n",
       "\t<tr><th scope=col>&lt;dbl&gt;</th><th scope=col>&lt;dbl&gt;</th><th scope=col>&lt;dbl&gt;</th><th scope=col>&lt;dbl&gt;</th><th scope=col>&lt;dbl&gt;</th><th scope=col>&lt;fct&gt;</th><th scope=col>&lt;chr&gt;</th></tr>\n",
       "</thead>\n",
       "<tbody>\n",
       "\t<tr><td> 7.435223e-53</td><td>1.408551</td><td>0.287</td><td>0.179</td><td> 1.984684e-48</td><td>0</td><td>Adrb2 </td></tr>\n",
       "\t<tr><td>9.316471e-217</td><td>1.297645</td><td>0.688</td><td>0.433</td><td>2.486846e-212</td><td>0</td><td>Dusp1 </td></tr>\n",
       "\t<tr><td>3.951728e-250</td><td>1.271874</td><td>0.759</td><td>0.631</td><td>1.054835e-245</td><td>1</td><td>Rps3a1</td></tr>\n",
       "\t<tr><td>4.140610e-211</td><td>1.197892</td><td>0.735</td><td>0.627</td><td>1.105253e-206</td><td>1</td><td>Rplp0 </td></tr>\n",
       "\t<tr><td> 0.000000e+00</td><td>1.432122</td><td>0.733</td><td>0.271</td><td> 0.000000e+00</td><td>2</td><td>Cxcl2 </td></tr>\n",
       "\t<tr><td>2.855382e-233</td><td>1.290392</td><td>0.388</td><td>0.090</td><td>7.621870e-229</td><td>2</td><td>Cxcl1 </td></tr>\n",
       "</tbody>\n",
       "</table>\n"
      ],
      "text/latex": [
       "A grouped\\_df: 6 × 7\n",
       "\\begin{tabular}{lllllll}\n",
       " p\\_val & avg\\_log2FC & pct.1 & pct.2 & p\\_val\\_adj & cluster & gene\\\\\n",
       " <dbl> & <dbl> & <dbl> & <dbl> & <dbl> & <fct> & <chr>\\\\\n",
       "\\hline\n",
       "\t  7.435223e-53 & 1.408551 & 0.287 & 0.179 &  1.984684e-48 & 0 & Adrb2 \\\\\n",
       "\t 9.316471e-217 & 1.297645 & 0.688 & 0.433 & 2.486846e-212 & 0 & Dusp1 \\\\\n",
       "\t 3.951728e-250 & 1.271874 & 0.759 & 0.631 & 1.054835e-245 & 1 & Rps3a1\\\\\n",
       "\t 4.140610e-211 & 1.197892 & 0.735 & 0.627 & 1.105253e-206 & 1 & Rplp0 \\\\\n",
       "\t  0.000000e+00 & 1.432122 & 0.733 & 0.271 &  0.000000e+00 & 2 & Cxcl2 \\\\\n",
       "\t 2.855382e-233 & 1.290392 & 0.388 & 0.090 & 7.621870e-229 & 2 & Cxcl1 \\\\\n",
       "\\end{tabular}\n"
      ],
      "text/markdown": [
       "\n",
       "A grouped_df: 6 × 7\n",
       "\n",
       "| p_val &lt;dbl&gt; | avg_log2FC &lt;dbl&gt; | pct.1 &lt;dbl&gt; | pct.2 &lt;dbl&gt; | p_val_adj &lt;dbl&gt; | cluster &lt;fct&gt; | gene &lt;chr&gt; |\n",
       "|---|---|---|---|---|---|---|\n",
       "|  7.435223e-53 | 1.408551 | 0.287 | 0.179 |  1.984684e-48 | 0 | Adrb2  |\n",
       "| 9.316471e-217 | 1.297645 | 0.688 | 0.433 | 2.486846e-212 | 0 | Dusp1  |\n",
       "| 3.951728e-250 | 1.271874 | 0.759 | 0.631 | 1.054835e-245 | 1 | Rps3a1 |\n",
       "| 4.140610e-211 | 1.197892 | 0.735 | 0.627 | 1.105253e-206 | 1 | Rplp0  |\n",
       "|  0.000000e+00 | 1.432122 | 0.733 | 0.271 |  0.000000e+00 | 2 | Cxcl2  |\n",
       "| 2.855382e-233 | 1.290392 | 0.388 | 0.090 | 7.621870e-229 | 2 | Cxcl1  |\n",
       "\n"
      ],
      "text/plain": [
       "  p_val         avg_log2FC pct.1 pct.2 p_val_adj     cluster gene  \n",
       "1  7.435223e-53 1.408551   0.287 0.179  1.984684e-48 0       Adrb2 \n",
       "2 9.316471e-217 1.297645   0.688 0.433 2.486846e-212 0       Dusp1 \n",
       "3 3.951728e-250 1.271874   0.759 0.631 1.054835e-245 1       Rps3a1\n",
       "4 4.140610e-211 1.197892   0.735 0.627 1.105253e-206 1       Rplp0 \n",
       "5  0.000000e+00 1.432122   0.733 0.271  0.000000e+00 2       Cxcl2 \n",
       "6 2.855382e-233 1.290392   0.388 0.090 7.621870e-229 2       Cxcl1 "
      ]
     },
     "metadata": {},
     "output_type": "display_data"
    }
   ],
   "source": [
    "microglia_MACS_subcluster.markers <- FindAllMarkers(microglia_MACS_subcluster)\n",
    "microglia_MACS_subcluster.markers %>%\n",
    "    group_by(cluster) %>%\n",
    "    slice_max(n = 2, order_by = avg_log2FC)\n",
    "write.csv(microglia_MACS_subcluster.markers, file = \"/home/adufour/work/table/microglia_MACS_subcluster.DEG.csv\", row.names=TRUE)"
   ]
  },
  {
   "cell_type": "markdown",
   "id": "ed9330d9",
   "metadata": {},
   "source": [
    "Compare cluster by condition, post natal day and post natal day with condition"
   ]
  },
  {
   "cell_type": "code",
   "execution_count": 4,
   "id": "6ea64534-76b4-4ced-8e79-9bfa1d46d228",
   "metadata": {
    "vscode": {
     "languageId": "r"
    }
   },
   "outputs": [],
   "source": [
    "for (i in unique(microglia_IEG_subcluster@meta.data$seurat_clusters)) {\n",
    "    Idents(microglia_IEG_subcluster) <- \"seurat_clusters\"\n",
    "    microglia_IEG_subcluster_il1_markers <- FindMarkers(microglia_IEG_subcluster, ident.1 = \"il1\", group.by = 'STIM', subset.ident = i)\n",
    "    write.csv(microglia_IEG_subcluster_il1_markers, file = paste0(\"/home/adufour/work/table/microglia_IEG_subcluster_il1_markers_\", i, \".csv\"), row.names=TRUE)\n",
    "    microglia_IEG_subcluster_P1_markers <- FindMarkers(microglia_IEG_subcluster, ident.1 = \"P1\", group.by = 'PND', subset.ident = i)\n",
    "    write.csv(microglia_IEG_subcluster_P1_markers, file = paste0(\"/home/adufour/work/table/microglia_IEG_subcluster_P1_markers_\", i, \".csv\"), row.names=TRUE)\n",
    "    microglia_IEG_subcluster_P3_markers <- FindMarkers(microglia_IEG_subcluster, ident.1 = \"P3\", group.by = 'PND', subset.ident = i)\n",
    "    write.csv(microglia_IEG_subcluster_P3_markers, file = paste0(\"/home/adufour/work/table/microglia_IEG_subcluster_P3_markers_\", i, \".csv\"), row.names=TRUE)\n",
    "    microglia_IEG_subcluster_P5_markers <- FindMarkers(microglia_IEG_subcluster, ident.1 = \"P5\", group.by = 'PND', subset.ident = i)\n",
    "    write.csv(microglia_IEG_subcluster_P5_markers, file = paste0(\"/home/adufour/work/table/microglia_IEG_subcluster_P5_markers_\", i, \".csv\"), row.names=TRUE)\n",
    "    \n",
    "    Idents(microglia_IEG_subcluster) <- \"ct\"\n",
    "    microglia_IEG_subcluster_il1_P1_markers <- FindMarkers(microglia_IEG_subcluster, ident.1 = \"il1\", group.by = 'STIM', subset.ident = paste0(i, \"_P1\"))\n",
    "    write.csv(microglia_IEG_subcluster_il1_P1_markers, file = paste0(\"/home/adufour/work/table/microglia_IEG_subcluster_il1_P1_STIM_\", i, \".csv\"), row.names=TRUE)\n",
    "    microglia_IEG_subcluster_il1_P3_markers <- FindMarkers(microglia_IEG_subcluster, ident.1 = \"il1\", group.by = 'STIM', subset.ident = paste0(i, \"_P3\"))\n",
    "    write.csv(microglia_IEG_subcluster_il1_P3_markers, file = paste0(\"/home/adufour/work/table/microglia_IEG_subcluster_il1_P3_STIM_\", i, \".csv\"), row.names=TRUE)\n",
    "    microglia_IEG_subcluster_il1_P5_markers <- FindMarkers(microglia_IEG_subcluster, ident.1 = \"il1\", group.by = 'STIM', subset.ident = paste0(i, \"_P5\"))\n",
    "    write.csv(microglia_IEG_subcluster_il1_P5_markers, file = paste0(\"/home/adufour/work/table/microglia_IEG_subcluster_il1_P5_STIM_\", i, \".csv\"), row.names=TRUE)\n",
    "}"
   ]
  },
  {
   "cell_type": "code",
   "execution_count": 5,
   "id": "a38f24c0-15eb-46be-b764-07d655bce8c0",
   "metadata": {
    "vscode": {
     "languageId": "r"
    }
   },
   "outputs": [],
   "source": [
    "for (i in unique(microglia_HOM_subcluster@meta.data$seurat_clusters)) {\n",
    "    Idents(microglia_HOM_subcluster) <- \"seurat_clusters\"\n",
    "    microglia_HOM_subcluster_il1_markers <- FindMarkers(microglia_HOM_subcluster, ident.1 = \"il1\", group.by = 'STIM', subset.ident = i)\n",
    "    write.csv(microglia_HOM_subcluster_il1_markers, file = paste0(\"/home/adufour/work/table/microglia_HOM_subcluster_il1_markers_\", i, \".csv\"), row.names=TRUE)\n",
    "    microglia_HOM_subcluster_P1_markers <- FindMarkers(microglia_HOM_subcluster, ident.1 = \"P1\", group.by = 'PND', subset.ident = i)\n",
    "    write.csv(microglia_HOM_subcluster_P1_markers, file = paste0(\"/home/adufour/work/table/microglia_HOM_subcluster_P1_markers_\", i, \".csv\"), row.names=TRUE)\n",
    "    microglia_HOM_subcluster_P3_markers <- FindMarkers(microglia_HOM_subcluster, ident.1 = \"P3\", group.by = 'PND', subset.ident = i)\n",
    "    write.csv(microglia_HOM_subcluster_P3_markers, file = paste0(\"/home/adufour/work/table/microglia_HOM_subcluster_P3_markers_\", i, \".csv\"), row.names=TRUE)\n",
    "    microglia_HOM_subcluster_P5_markers <- FindMarkers(microglia_HOM_subcluster, ident.1 = \"P5\", group.by = 'PND', subset.ident = i)\n",
    "    write.csv(microglia_HOM_subcluster_P5_markers, file = paste0(\"/home/adufour/work/table/microglia_HOM_subcluster_P5_markers_\", i, \".csv\"), row.names=TRUE)\n",
    "    \n",
    "    Idents(microglia_HOM_subcluster) <- \"ct\"\n",
    "    microglia_HOM_subcluster_il1_P1_markers <- FindMarkers(microglia_HOM_subcluster, ident.1 = \"il1\", group.by = 'STIM', subset.ident = paste0(i, \"_P1\"))\n",
    "    write.csv(microglia_HOM_subcluster_il1_P1_markers, file = paste0(\"/home/adufour/work/table/microglia_HOM_subcluster_il1_P1_markers_\", i, \".csv\"), row.names=TRUE)\n",
    "    microglia_HOM_subcluster_il1_P3_markers <- FindMarkers(microglia_HOM_subcluster, ident.1 = \"il1\", group.by = 'STIM', subset.ident = paste0(i, \"_P3\"))\n",
    "    write.csv(microglia_HOM_subcluster_il1_P3_markers, file = paste0(\"/home/adufour/work/table/microglia_HOM_subcluster_il1_P3_markers_\", i, \".csv\"), row.names=TRUE)\n",
    "    microglia_HOM_subcluster_il1_P5_markers <- FindMarkers(microglia_HOM_subcluster, ident.1 = \"il1\", group.by = 'STIM', subset.ident = paste0(i, \"_P5\"))\n",
    "    write.csv(microglia_HOM_subcluster_il1_P5_markers, file = paste0(\"/home/adufour/work/table/microglia_HOM_subcluster_il1_P5_markers_\", i, \".csv\"), row.names=TRUE)\n",
    "}"
   ]
  },
  {
   "cell_type": "code",
   "execution_count": 7,
   "id": "75d82cb6-8388-4e0b-ac06-de5f14f4d522",
   "metadata": {
    "vscode": {
     "languageId": "r"
    }
   },
   "outputs": [],
   "source": [
    "for (i in unique(microglia_MACS_subcluster@meta.data$seurat_clusters)) {\n",
    "    Idents(microglia_MACS_subcluster) <- \"seurat_clusters\"\n",
    "    microglia_MACS_subcluster_il1_markers <- FindMarkers(microglia_MACS_subcluster, ident.1 = \"il1\", group.by = 'STIM', subset.ident = i)\n",
    "    write.csv(microglia_MACS_subcluster_il1_markers, file = paste0(\"/home/adufour/work/table/microglia_MACS_subcluster_il1_markers_\", i, \".csv\"), row.names=TRUE)\n",
    "    microglia_MACS_subcluster_P1_markers <- FindMarkers(microglia_MACS_subcluster, ident.1 = \"P1\", group.by = 'PND', subset.ident = i)\n",
    "    write.csv(microglia_MACS_subcluster_P1_markers, file = paste0(\"/home/adufour/work/table/microglia_MACS_subcluster_P1_markers_\", i, \".csv\"), row.names=TRUE)\n",
    "    microglia_MACS_subcluster_P3_markers <- FindMarkers(microglia_MACS_subcluster, ident.1 = \"P3\", group.by = 'PND', subset.ident = i)\n",
    "    write.csv(microglia_MACS_subcluster_P3_markers, file = paste0(\"/home/adufour/work/table/microglia_MACS_subcluster_P3_markers_\", i, \".csv\"), row.names=TRUE)\n",
    "    microglia_MACS_subcluster_P5_markers <- FindMarkers(microglia_MACS_subcluster, ident.1 = \"P5\", group.by = 'PND', subset.ident = i)\n",
    "    write.csv(microglia_MACS_subcluster_P5_markers, file = paste0(\"/home/adufour/work/table/microglia_MACS_subcluster_P5_markers_\", i, \".csv\"), row.names=TRUE)\n",
    "    \n",
    "    Idents(microglia_MACS_subcluster) <- \"ct\"\n",
    "    microglia_MACS_subcluster_il1_P1_markers <- try(FindMarkers(microglia_MACS_subcluster, ident.1 = \"il1\", group.by = 'STIM', subset.ident = paste0(i, \"_P1\")))\n",
    "    try(write.csv(microglia_MACS_subcluster_il1_P1_markers, file = paste0(\"/home/adufour/work/table/microglia_MACS_subcluster_il1_P1_markers_\", i, \".csv\"), row.names=TRUE))\n",
    "    microglia_MACS_subcluster_il1_P3_markers <- try(FindMarkers(microglia_MACS_subcluster, ident.1 = \"il1\", group.by = 'STIM', subset.ident = paste0(i, \"_P3\")))\n",
    "    try(write.csv(microglia_MACS_subcluster_il1_P3_markers, file = paste0(\"/home/adufour/work/table/microglia_MACS_subcluster_il1_P3_markers_\", i, \".csv\"), row.names=TRUE))\n",
    "    microglia_MACS_subcluster_il1_P5_markers <- try(FindMarkers(microglia_MACS_subcluster, ident.1 = \"il1\", group.by = 'STIM', subset.ident = paste0(i, \"_P5\")))\n",
    "    try(write.csv(microglia_MACS_subcluster_il1_P5_markers, file = paste0(\"/home/adufour/work/table/microglia_MACS_subcluster_il1_P5_markers_\", i, \".csv\"), row.names=TRUE))\n",
    "}"
   ]
  },
  {
   "cell_type": "code",
   "execution_count": 8,
   "id": "67fc8fa0-d9b7-43e7-9b21-83f83e182302",
   "metadata": {
    "vscode": {
     "languageId": "r"
    }
   },
   "outputs": [
    {
     "name": "stdout",
     "output_type": "stream",
     "text": [
      "Error in ValidateCellGroups(object = object, cells.1 = cells.1, cells.2 = cells.2,  : \n",
      "  Cell group 1 has fewer than 3 cells\n",
      "Error in as.data.frame.default(x[[i]], optional = TRUE, stringsAsFactors = stringsAsFactors) : \n",
      "  impossible de convertir automatiquement la classe ‘\"try-error\"’ en un tableau de données (data.frame)\n",
      "Error in WhichCells.Seurat(object = object, idents = ident.1) : \n",
      "  Cannot find the following identities in the object: P1\n",
      "Error in as.data.frame.default(x[[i]], optional = TRUE, stringsAsFactors = stringsAsFactors) : \n",
      "  impossible de convertir automatiquement la classe ‘\"try-error\"’ en un tableau de données (data.frame)\n",
      "Error in ValidateCellGroups(object = object, cells.1 = cells.1, cells.2 = cells.2,  : \n",
      "  Cell group 1 has fewer than 3 cells\n",
      "Error in as.data.frame.default(x[[i]], optional = TRUE, stringsAsFactors = stringsAsFactors) : \n",
      "  impossible de convertir automatiquement la classe ‘\"try-error\"’ en un tableau de données (data.frame)\n",
      "Error in ValidateCellGroups(object = object, cells.1 = cells.1, cells.2 = cells.2,  : \n",
      "  Cell group 2 has fewer than 3 cells\n",
      "Error in as.data.frame.default(x[[i]], optional = TRUE, stringsAsFactors = stringsAsFactors) : \n",
      "  impossible de convertir automatiquement la classe ‘\"try-error\"’ en un tableau de données (data.frame)\n",
      "Error in WhichCells.Seurat(object = x, cells = cells, idents = idents,  : \n",
      "  Cannot find the following identities in the object: 11_P1\n",
      "Error in as.data.frame.default(x[[i]], optional = TRUE, stringsAsFactors = stringsAsFactors) : \n",
      "  impossible de convertir automatiquement la classe ‘\"try-error\"’ en un tableau de données (data.frame)\n",
      "Error in ValidateCellGroups(object = object, cells.1 = cells.1, cells.2 = cells.2,  : \n",
      "  Cell group 2 is empty - no cells with identity class \n",
      "Error in as.data.frame.default(x[[i]], optional = TRUE, stringsAsFactors = stringsAsFactors) : \n",
      "  impossible de convertir automatiquement la classe ‘\"try-error\"’ en un tableau de données (data.frame)\n"
     ]
    }
   ],
   "source": [
    "for (i in unique(microglia_immune_allcells@meta.data$seurat_clusters)) {\n",
    "    Idents(microglia_immune_allcells) <- \"seurat_clusters\"\n",
    "    microglia_immune_allcells_il1_markers <- try(FindMarkers(microglia_immune_allcells, ident.1 = \"il1\", group.by = 'STIM', subset.ident = i))\n",
    "    try(write.csv(microglia_immune_allcells_il1_markers, file = paste0(\"/home/adufour/work/table/microglia_immune_allcells_il1_markers_\", i, \".csv\"), row.names=TRUE))\n",
    "    microglia_immune_allcells_P1_markers <- try(FindMarkers(microglia_immune_allcells, ident.1 = \"P1\", group.by = 'PND', subset.ident = i))\n",
    "    try(write.csv(microglia_immune_allcells_P1_markers, file = paste0(\"/home/adufour/work/table/microglia_immune_allcells_P1_markers_\", i, \".csv\"), row.names=TRUE))\n",
    "    microglia_immune_allcells_P3_markers <- try(FindMarkers(microglia_immune_allcells, ident.1 = \"P3\", group.by = 'PND', subset.ident = i))\n",
    "    try(write.csv(microglia_immune_allcells_P3_markers, file = paste0(\"/home/adufour/work/table/microglia_immune_allcells_P3_markers_\", i, \".csv\"), row.names=TRUE))\n",
    "    microglia_immune_allcells_P5_markers <- try(FindMarkers(microglia_immune_allcells, ident.1 = \"P5\", group.by = 'PND', subset.ident = i))\n",
    "    try(write.csv(microglia_immune_allcells_P5_markers, file = paste0(\"/home/adufour/work/table/microglia_immune_allcells_P5_markers_\", i, \".csv\"), row.names=TRUE))\n",
    "    \n",
    "    Idents(microglia_immune_allcells) <- \"ct\"\n",
    "    microglia_immune_allcells_il1_P1_markers <- try(FindMarkers(microglia_immune_allcells, ident.1 = \"il1\", group.by = 'STIM', subset.ident = paste0(i, \"_P1\")))\n",
    "    try(write.csv(microglia_immune_allcells_il1_P1_markers, file = paste0(\"/home/adufour/work/table/microglia_immune_allcells_il1_P1_markers_\", i, \".csv\"), row.names=TRUE))\n",
    "    microglia_immune_allcells_il1_P3_markers <- try(FindMarkers(microglia_immune_allcells, ident.1 = \"il1\", group.by = 'STIM', subset.ident = paste0(i, \"_P3\")))\n",
    "    try(write.csv(microglia_immune_allcells_il1_P3_markers, file = paste0(\"/home/adufour/work/table/microglia_immune_allcells_il1_P3_markers_\", i, \".csv\"), row.names=TRUE))\n",
    "    microglia_immune_allcells_il1_P5_markers <- try(FindMarkers(microglia_immune_allcells, ident.1 = \"il1\", group.by = 'STIM', subset.ident = paste0(i, \"_P5\")))\n",
    "    try(write.csv(microglia_immune_allcells_il1_P5_markers, file = paste0(\"/home/adufour/work/table/microglia_immune_allcells_il1_P5_markers_\", i, \".csv\"), row.names=TRUE))\n",
    "}"
   ]
  },
  {
   "cell_type": "code",
   "execution_count": null,
   "id": "9096de5f-f9eb-419e-bb57-d0bbd860ddbd",
   "metadata": {
    "vscode": {
     "languageId": "r"
    }
   },
   "outputs": [],
   "source": []
  }
 ],
 "metadata": {
  "kernelspec": {
   "display_name": "R [conda env:microglia]",
   "language": "R",
   "name": "conda-env-microglia-r"
  },
  "language_info": {
   "codemirror_mode": "r",
   "file_extension": ".r",
   "mimetype": "text/x-r-source",
   "name": "R",
   "pygments_lexer": "r",
   "version": "4.1.3"
  }
 },
 "nbformat": 4,
 "nbformat_minor": 5
}
