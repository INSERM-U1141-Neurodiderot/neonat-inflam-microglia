{
 "cells": [
  {
   "cell_type": "markdown",
   "metadata": {},
   "source": [
    "loading package and seurat object"
   ]
  },
  {
   "cell_type": "code",
   "execution_count": 1,
   "metadata": {
    "scrolled": true,
    "vscode": {
     "languageId": "r"
    }
   },
   "outputs": [
    {
     "name": "stderr",
     "output_type": "stream",
     "text": [
      "\n",
      "Attachement du package : ‘dplyr’\n",
      "\n",
      "\n",
      "Les objets suivants sont masqués depuis ‘package:stats’:\n",
      "\n",
      "    filter, lag\n",
      "\n",
      "\n",
      "Les objets suivants sont masqués depuis ‘package:base’:\n",
      "\n",
      "    intersect, setdiff, setequal, union\n",
      "\n",
      "\n",
      "Warning message:\n",
      "“le package ‘SCPA’ a été compilé avec la version R 4.2.2”\n",
      "====================\n",
      "This is version 1.5.3 of SCPA\n",
      "For SCPA tutorials and latest version: https://jackbibby1.github.io/SCPA/\n",
      "For the SCPA GitHub page: https://github.com/jackbibby1/SCPA\n",
      "If you use SCPA, please cite: Bibby JA. et al. Cell Rep. 2022\n",
      "====================\n",
      "\n",
      "\n",
      "Warning message in system(\"timedatectl\", intern = TRUE):\n",
      "“l'exécution de la commande 'timedatectl' renvoie un statut 1”\n",
      "── \u001b[1mAttaching core tidyverse packages\u001b[22m ──────────────────────────────────────────────────────────────── tidyverse 2.0.0 ──\n",
      "\u001b[32m✔\u001b[39m \u001b[34mforcats  \u001b[39m 1.0.0     \u001b[32m✔\u001b[39m \u001b[34mstringr  \u001b[39m 1.5.0\n",
      "\u001b[32m✔\u001b[39m \u001b[34mlubridate\u001b[39m 1.9.2     \u001b[32m✔\u001b[39m \u001b[34mtibble   \u001b[39m 3.2.1\n",
      "\u001b[32m✔\u001b[39m \u001b[34mpurrr    \u001b[39m 1.0.1     \u001b[32m✔\u001b[39m \u001b[34mtidyr    \u001b[39m 1.3.0\n",
      "\u001b[32m✔\u001b[39m \u001b[34mreadr    \u001b[39m 2.1.4     \n",
      "── \u001b[1mConflicts\u001b[22m ────────────────────────────────────────────────────────────────────────────────── tidyverse_conflicts() ──\n",
      "\u001b[31m✖\u001b[39m \u001b[34mdplyr\u001b[39m::\u001b[32mfilter()\u001b[39m    masks \u001b[34mstats\u001b[39m::filter()\n",
      "\u001b[31m✖\u001b[39m \u001b[34mdplyr\u001b[39m::\u001b[32mlag()\u001b[39m       masks \u001b[34mstats\u001b[39m::lag()\n",
      "\u001b[31m✖\u001b[39m \u001b[34mlubridate\u001b[39m::\u001b[32mstamp()\u001b[39m masks \u001b[34mcowplot\u001b[39m::stamp()\n",
      "\u001b[36mℹ\u001b[39m Use the conflicted package (\u001b[3m\u001b[34m<http://conflicted.r-lib.org/>\u001b[39m\u001b[23m) to force all conflicts to become errors\n",
      "\n",
      "Attachement du package : ‘patchwork’\n",
      "\n",
      "\n",
      "L'objet suivant est masqué depuis ‘package:cowplot’:\n",
      "\n",
      "    align_plots\n",
      "\n",
      "\n",
      "The legacy packages maptools, rgdal, and rgeos, underpinning this package\n",
      "will retire shortly. Please refer to R-spatial evolution reports on\n",
      "https://r-spatial.org/r/2023/05/15/evolution4.html for details.\n",
      "This package is now running under evolution status 0 \n",
      "\n",
      "Attaching SeuratObject\n",
      "\n",
      "Warning message:\n",
      "“le package ‘rliger’ a été compilé avec la version R 4.2.2”\n",
      "Le chargement a nécessité le package : Matrix\n",
      "\n",
      "\n",
      "Attachement du package : ‘Matrix’\n",
      "\n",
      "\n",
      "Les objets suivants sont masqués depuis ‘package:tidyr’:\n",
      "\n",
      "    expand, pack, unpack\n",
      "\n",
      "\n",
      "Warning message:\n",
      "“le package ‘SeuratData’ a été compilé avec la version R 4.2.2”\n",
      "\n",
      "Attachement du package : ‘magrittr’\n",
      "\n",
      "\n",
      "L'objet suivant est masqué depuis ‘package:purrr’:\n",
      "\n",
      "    set_names\n",
      "\n",
      "\n",
      "L'objet suivant est masqué depuis ‘package:tidyr’:\n",
      "\n",
      "    extract\n",
      "\n",
      "\n",
      "Warning message:\n",
      "“le package ‘SeuratWrappers’ a été compilé avec la version R 4.2.2”\n",
      "Warning message:\n",
      "“le package ‘viridis’ a été compilé avec la version R 4.2.2”\n",
      "Le chargement a nécessité le package : viridisLite\n",
      "\n",
      "Le chargement a nécessité le package : grid\n",
      "\n",
      "========================================\n",
      "ComplexHeatmap version 2.10.0\n",
      "Bioconductor page: http://bioconductor.org/packages/ComplexHeatmap/\n",
      "Github page: https://github.com/jokergoo/ComplexHeatmap\n",
      "Documentation: http://jokergoo.github.io/ComplexHeatmap-reference\n",
      "\n",
      "If you use it in published research, please cite:\n",
      "Gu, Z. Complex heatmaps reveal patterns and correlations in multidimensional \n",
      "  genomic data. Bioinformatics 2016.\n",
      "\n",
      "The new InteractiveComplexHeatmap package can directly export static \n",
      "complex heatmaps into an interactive Shiny app with zero effort. Have a try!\n",
      "\n",
      "This message can be suppressed by:\n",
      "  suppressPackageStartupMessages(library(ComplexHeatmap))\n",
      "========================================\n",
      "\n",
      "\n",
      "========================================\n",
      "circlize version 0.4.15\n",
      "CRAN page: https://cran.r-project.org/package=circlize\n",
      "Github page: https://github.com/jokergoo/circlize\n",
      "Documentation: https://jokergoo.github.io/circlize_book/book/\n",
      "\n",
      "If you use it in published research, please cite:\n",
      "Gu, Z. circlize implements and enhances circular visualization\n",
      "  in R. Bioinformatics 2014.\n",
      "\n",
      "This message can be suppressed by:\n",
      "  suppressPackageStartupMessages(library(circlize))\n",
      "========================================\n",
      "\n",
      "\n"
     ]
    }
   ],
   "source": [
    "library(ggplot2)\n",
    "library(cowplot)\n",
    "library(dplyr)\n",
    "library(SCPA)\n",
    "library(tidyverse)\n",
    "library(msigdbr)\n",
    "library(tibble)\n",
    "library(patchwork)\n",
    "library(Seurat)\n",
    "library(rliger)\n",
    "library(SeuratData)\n",
    "library(magrittr)\n",
    "library(SeuratWrappers)\n",
    "library(viridis)\n",
    "library(tidyr)\n",
    "library(ComplexHeatmap)\n",
    "library(circlize)\n",
    "library(RColorBrewer)"
   ]
  },
  {
   "cell_type": "code",
   "execution_count": 3,
   "metadata": {
    "vscode": {
     "languageId": "r"
    }
   },
   "outputs": [],
   "source": [
    "custom_colors <- list()\n",
    "\n",
    "colors_dutch <- c(\"#16a085\", \"#2980b9\", \"#4834d4\", \"#f39c12\", \"#c0392b\",\n",
    "                  \"#130f40\", \"#f78fb3\", \"#65d6ce\", \"#d1c145\", \"#2ecc71\",\n",
    "                  \"#d35400\", \"#c44569\", '#ff7f50', '#706fd3', '#f9ca24',\n",
    "                  '#34ace0', '#33d9b2', '#2c2c54', '#be2edd')\n",
    "\n",
    "colors_spanish <- c(\n",
    "  '#40407a','#706fd3','#f7f1e3','#34ace0','#33d9b2',\n",
    "  '#2c2c54','#474787','#aaa69d','#227093','#218c74',\n",
    "  '#ff5252','#ff793f','#d1ccc0','#ffb142','#ffda79',\n",
    "  '#b33939','#cd6133','#84817a','#cc8e35','#ccae62'\n",
    ")\n",
    "\n",
    "custom_colors$discrete <- c(colors_dutch, colors_spanish)\n",
    "\n",
    "custom_colors$cell_cycle <- setNames(\n",
    "  c('#45aaf2', '#f1c40f', '#e74c3c', '#7f8c8d'),\n",
    "  c('G1',      'S',       'G2M',     '-')\n",
    ")"
   ]
  },
  {
   "cell_type": "code",
   "execution_count": 4,
   "metadata": {
    "vscode": {
     "languageId": "r"
    }
   },
   "outputs": [],
   "source": [
    "options(repr.plot.width = 18, repr.plot.height = 17, repr.plot.pointsize = 24)"
   ]
  },
  {
   "cell_type": "code",
   "execution_count": 10,
   "metadata": {
    "vscode": {
     "languageId": "r"
    }
   },
   "outputs": [],
   "source": [
    "scpa_out <- readRDS(\"/home/adufour/work/rds_storage/microglia_scpa_out.rds\")"
   ]
  },
  {
   "cell_type": "code",
   "execution_count": 6,
   "metadata": {
    "vscode": {
     "languageId": "r"
    }
   },
   "outputs": [],
   "source": [
    "tb3 <- msigdbr(\"Mus musculus\", category = \"H\")"
   ]
  },
  {
   "cell_type": "code",
   "execution_count": 11,
   "metadata": {
    "vscode": {
     "languageId": "r"
    }
   },
   "outputs": [],
   "source": [
    "microglia <- readRDS(\"/home/adufour/work/rds_storage/microglia/microglia.rds\")"
   ]
  },
  {
   "cell_type": "code",
   "execution_count": 12,
   "metadata": {
    "vscode": {
     "languageId": "r"
    }
   },
   "outputs": [],
   "source": [
    "microglia@meta.data$cluster_time <- paste0(microglia@meta.data$PND, \"_\", microglia@meta.data$seurat_clusters)\n",
    "microglia_subset <- subset(x = microglia, idents = c(\"0\", \"1\", \"2\", \"3\", \"4\", \"5\", \"6\", \"7\"))\n",
    "cell_types <- unique(microglia_subset@meta.data$cluster_time)"
   ]
  },
  {
   "cell_type": "code",
   "execution_count": 14,
   "metadata": {
    "vscode": {
     "languageId": "r"
    }
   },
   "outputs": [],
   "source": [
    "for (i in cell_types) {\n",
    "  scpa_out[[i]] <- scpa_out[[i]] %>%\n",
    "    select(Pathway, qval) %>%\n",
    "    magrittr::set_colnames(c(\"Pathway\", paste(i, \"qval\", sep = \"_\")))\n",
    "\n",
    "# For faster analysis with parallel processing, use 'parallel = TRUE' and 'cores = x' arguments\n",
    "}"
   ]
  },
  {
   "cell_type": "code",
   "execution_count": 15,
   "metadata": {
    "vscode": {
     "languageId": "r"
    }
   },
   "outputs": [],
   "source": [
    "scpa_out <- scpa_out %>% \n",
    "  reduce(full_join, by = \"Pathway\") %>% \n",
    "  magrittr::set_colnames(gsub(colnames(.), pattern = \" \", replacement = \"_\")) %>%\n",
    "  select(c(\"Pathway\", grep(\"_qval\", colnames(.)))) %>%\n",
    "  filter_all(any_vars(. > 2)) %>%\n",
    "  column_to_rownames(\"Pathway\")"
   ]
  },
  {
   "cell_type": "code",
   "execution_count": 25,
   "metadata": {
    "vscode": {
     "languageId": "r"
    }
   },
   "outputs": [],
   "source": [
    "scpa_out <- scpa_out[apply(scpa_out>1.5,1,any),]"
   ]
  },
  {
   "cell_type": "code",
   "execution_count": 26,
   "metadata": {
    "vscode": {
     "languageId": "r"
    }
   },
   "outputs": [],
   "source": [
    "scpa_out <- scpa_out[grep(\"HALLMARK\", rownames(scpa_out)),]"
   ]
  },
  {
   "cell_type": "code",
   "execution_count": 28,
   "metadata": {
    "vscode": {
     "languageId": "r"
    }
   },
   "outputs": [],
   "source": [
    "rownames(scpa_out) <- sub('HALLMARK_', '', rownames(scpa_out))\n",
    "rownames(scpa_out) <- sub('_', ' ', rownames(scpa_out))"
   ]
  },
  {
   "cell_type": "code",
   "execution_count": 29,
   "metadata": {
    "vscode": {
     "languageId": "r"
    }
   },
   "outputs": [],
   "source": [
    "column_order <- c(\"P1_0_qval\", \"P3_0_qval\", \"P5_0_qval\",\n",
    "                  \"P1_1_qval\", \"P3_1_qval\", \"P5_1_qval\",\n",
    "                  \"P1_2_qval\", \"P3_2_qval\", \"P5_2_qval\",\n",
    "                  \"P1_3_qval\", \"P3_3_qval\", \"P5_3_qval\",\n",
    "                  \"P1_4_qval\", \"P3_4_qval\", \"P5_4_qval\",\n",
    "                  \"P1_5_qval\", \"P3_5_qval\", \"P5_5_qval\",\n",
    "                  \"P1_6_qval\", \"P3_6_qval\", \"P5_6_qval\",\n",
    "                  \"P1_7_qval\", \"P3_7_qval\", \"P5_7_qval\")\n",
    "mat <- scpa_out[,column_order]\n",
    "hb <- HeatmapAnnotation(foo = anno_block(gp = gpar(fill = c(\"#00a085\", \"#1a7fb6\", \"#4a2ed0\", \"#f79c30\", \"#c13626\", \"#131140\", \"#fc8eb3\", '#54d5cc')),\n",
    "                                                   labels = c('0', '1', '2', '3', '4', '5', '6', '7'),\n",
    "                                         labels_gp = gpar(col = c(\"black\", \"white\", \"white\", \"black\", \"white\", \"white\", \"black\", \"black\"), fontsize = 48)))\n",
    "col_fun <- colorRamp2(seq(min(mat), max(mat), length = 100), colorRampPalette(rev(brewer.pal(n = 11, name = \"RdYlBu\")))(100))\n",
    "lgd <- list(title = \"Q-value\", legend_height = unit(6, \"cm\"), grid_width = unit(1, \"cm\"), labels_gp = gpar(fontsize = 40), title_gp = gpar(fontsize = 36), title_position = \"leftcenter-rot\")\n",
    "split = rep(1:8, each = 3)"
   ]
  },
  {
   "cell_type": "code",
   "execution_count": 30,
   "metadata": {
    "vscode": {
     "languageId": "r"
    }
   },
   "outputs": [
    {
     "name": "stderr",
     "output_type": "stream",
     "text": [
      "Warning message:\n",
      "“The input is a data frame, convert it to a matrix.”\n"
     ]
    },
    {
     "data": {
      "text/html": [
       "<strong>png:</strong> 2"
      ],
      "text/latex": [
       "\\textbf{png:} 2"
      ],
      "text/markdown": [
       "**png:** 2"
      ],
      "text/plain": [
       "png \n",
       "  2 "
      ]
     },
     "metadata": {},
     "output_type": "display_data"
    }
   ],
   "source": [
    "options(repr.plot.width=30, repr.plot.height=20) # To set the figure size in Jupyter\n",
    "pdf('/home/adufour/work/notebook/plots/Microglia/microglia_hallmark_1.5.pdf', width=32,height=20)\n",
    "hm <- draw(ComplexHeatmap::Heatmap(mat, \n",
    "                                   col = col_fun, \n",
    "                                   cluster_columns = FALSE, \n",
    "                                   column_names_gp=grid::gpar(fontsize=48),\n",
    "                                   column_split = split, \n",
    "                                   column_gap = unit(3, \"mm\"), \n",
    "                                   column_labels = rep(c(\"P1\",\"P3\",\"P5\"),8),\n",
    "                                   row_names_gp=grid::gpar(fontsize=30),\n",
    "                                   top_annotation = hb, \n",
    "                                   column_title = NULL, \n",
    "                                   heatmap_legend_param = lgd), \n",
    "           padding = unit(c(2, 2, 2, 160), \"mm\"),\n",
    "           heatmap_legend_side = \"left\")\n",
    "dev.off()"
   ]
  }
 ],
 "metadata": {
  "kernelspec": {
   "display_name": "R [conda env:microglia]",
   "language": "R",
   "name": "conda-env-microglia-r"
  },
  "language_info": {
   "codemirror_mode": "r",
   "file_extension": ".r",
   "mimetype": "text/x-r-source",
   "name": "R",
   "pygments_lexer": "r",
   "version": "4.1.3"
  }
 },
 "nbformat": 4,
 "nbformat_minor": 4
}
