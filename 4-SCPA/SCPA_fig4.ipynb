{
 "cells": [
  {
   "cell_type": "markdown",
   "metadata": {},
   "source": [
    "loading package and seurat object"
   ]
  },
  {
   "cell_type": "code",
   "execution_count": null,
   "metadata": {
    "scrolled": true,
    "vscode": {
     "languageId": "r"
    }
   },
   "outputs": [],
   "source": [
    "library(ggplot2)\n",
    "library(cowplot)\n",
    "library(dplyr)\n",
    "library(SCPA)\n",
    "library(tidyverse)\n",
    "library(msigdbr)\n",
    "library(tibble)\n",
    "library(AnnotationHub)\n",
    "library(patchwork)\n",
    "library(Seurat)\n",
    "library(rliger)\n",
    "library(SeuratData)\n",
    "library(magrittr)\n",
    "library(SeuratWrappers)\n",
    "library(viridis)\n",
    "library(tidyr)\n",
    "library(magrittr)\n",
    "library(RColorBrewer)"
   ]
  },
  {
   "cell_type": "code",
   "execution_count": null,
   "metadata": {
    "vscode": {
     "languageId": "r"
    }
   },
   "outputs": [],
   "source": [
    "custom_colors <- list()\n",
    "\n",
    "colors_dutch <- c(\"#16a085\", \"#2980b9\", \"#4834d4\", \"#f39c12\", \"#c0392b\",\n",
    "                  \"#130f40\", \"#f78fb3\", \"#65d6ce\", \"#d1c145\", \"#2ecc71\",\n",
    "                  \"#d35400\", \"#c44569\", '#ff7f50', '#706fd3', '#f9ca24',\n",
    "                  '#34ace0', '#33d9b2', '#2c2c54', '#be2edd')\n",
    "\n",
    "colors_spanish <- c(\n",
    "  '#40407a','#706fd3','#f7f1e3','#34ace0','#33d9b2',\n",
    "  '#2c2c54','#474787','#aaa69d','#227093','#218c74',\n",
    "  '#ff5252','#ff793f','#d1ccc0','#ffb142','#ffda79',\n",
    "  '#b33939','#cd6133','#84817a','#cc8e35','#ccae62'\n",
    ")\n",
    "\n",
    "custom_colors$discrete <- c(colors_dutch, colors_spanish)\n",
    "\n",
    "custom_colors$cell_cycle <- setNames(\n",
    "  c('#45aaf2', '#f1c40f', '#e74c3c', '#7f8c8d'),\n",
    "  c('G1',      'S',       'G2M',     '-')\n",
    ")"
   ]
  },
  {
   "cell_type": "code",
   "execution_count": null,
   "metadata": {
    "vscode": {
     "languageId": "r"
    }
   },
   "outputs": [],
   "source": [
    "options(repr.plot.width = 18, repr.plot.height = 17, repr.plot.pointsize = 24)"
   ]
  },
  {
   "cell_type": "code",
   "execution_count": 2,
   "metadata": {
    "vscode": {
     "languageId": "r"
    }
   },
   "outputs": [
    {
     "name": "stderr",
     "output_type": "stream",
     "text": [
      "The legacy packages maptools, rgdal, and rgeos, underpinning this package\n",
      "will retire shortly. Please refer to R-spatial evolution reports on\n",
      "https://r-spatial.org/r/2023/05/15/evolution4.html for details.\n",
      "This package is now running under evolution status 0 \n",
      "\n"
     ]
    }
   ],
   "source": [
    "microglia_subcuster_IEG <- readRDS(\"/home/adufour/work/rds_storage/microglia/microglia_IEG.rds\")\n",
    "\n",
    "tb1 <- msigdbr(\"Mus musculus\", category = \"C2\", subcategory = \"CP:KEGG\")\n",
    "tb2 <- msigdbr(\"Mus musculus\", category = \"C5\", subcategory = \"GO:BP\")\n",
    "tb3 <- msigdbr(\"Mus musculus\", category = \"H\")\n",
    "\n",
    "pathways <- rbind(tb1, tb2, tb3) %>% format_pathways()\n",
    "\n",
    "cell_types <- unique(microglia_subcuster_IEG@meta.data$seurat_clusters)\n",
    "\n",
    "scpa_out <- list()"
   ]
  },
  {
   "cell_type": "code",
   "execution_count": 3,
   "metadata": {
    "vscode": {
     "languageId": "r"
    }
   },
   "outputs": [],
   "source": [
    "microglia_subcuster_IEG@meta.data$cluster_time <- paste0(microglia_subcuster_IEG@meta.data$PND, \"_\", microglia_subcuster_IEG@meta.data$seurat_clusters)"
   ]
  },
  {
   "cell_type": "code",
   "execution_count": 4,
   "metadata": {
    "vscode": {
     "languageId": "r"
    }
   },
   "outputs": [],
   "source": [
    "cell_types <- unique(microglia_subcuster_IEG@meta.data$seurat_clusters)"
   ]
  },
  {
   "cell_type": "code",
   "execution_count": 8,
   "metadata": {
    "vscode": {
     "languageId": "r"
    }
   },
   "outputs": [],
   "source": [
    "microglia_subcuster_IEG.split <- Seurat::SplitObject(microglia_subcuster_IEG, split.by = \"STIM\")"
   ]
  },
  {
   "cell_type": "code",
   "execution_count": 9,
   "metadata": {
    "scrolled": true,
    "vscode": {
     "languageId": "r"
    }
   },
   "outputs": [
    {
     "name": "stderr",
     "output_type": "stream",
     "text": [
      "Extracting cells where seurat_clusters == 2\n",
      "\n",
      "Extracting data from the RNA assay\n",
      "\n",
      "Extracting cells where seurat_clusters == 2\n",
      "\n",
      "Extracting data from the RNA assay\n",
      "\n"
     ]
    },
    {
     "name": "stdout",
     "output_type": "stream",
     "text": [
      "[1] \"comparing 2\"\n"
     ]
    },
    {
     "name": "stderr",
     "output_type": "stream",
     "text": [
      "Processing in parallel using 4 cores\n",
      "\n",
      "\n",
      "Cell numbers in population 1 = 1150\n",
      "\n",
      "Cell numbers in population 2 = 2726\n",
      "\n",
      "- If greater than 500 cells, these populations will be downsampled\n",
      "\n",
      "\n",
      "Excluding 3642 pathway(s) based on min/max genes parameter: GOBP_10_FORMYLTETRAHYDROFOLATE_METABOLIC_PROCESS, GOBP_2FE_2S_CLUSTER_ASSEMBLY, GOBP_3_PHOSPHOADENOSINE_5_PHOSPHOSULFATE_BIOSYNTHETIC_PROCESS, GOBP_5S_CLASS_RRNA_TRANSCRIPTION_BY_RNA_POLYMERASE_III, GOBP_5_PHOSPHORIBOSE_1_DIPHOSPHATE_METABOLIC_PROCESS...\n",
      "\n",
      "\n",
      "Calculating pathway fold changes...\n",
      "\n",
      "\n",
      "Performing a two-sample analysis with SCPA...\n",
      "\n",
      "Extracting cells where seurat_clusters == 1\n",
      "\n",
      "Extracting data from the RNA assay\n",
      "\n",
      "Extracting cells where seurat_clusters == 1\n",
      "\n",
      "Extracting data from the RNA assay\n",
      "\n"
     ]
    },
    {
     "name": "stdout",
     "output_type": "stream",
     "text": [
      "[1] \"comparing 1\"\n"
     ]
    },
    {
     "name": "stderr",
     "output_type": "stream",
     "text": [
      "Processing in parallel using 4 cores\n",
      "\n",
      "\n",
      "Cell numbers in population 1 = 2137\n",
      "\n",
      "Cell numbers in population 2 = 2033\n",
      "\n",
      "- If greater than 500 cells, these populations will be downsampled\n",
      "\n",
      "\n",
      "Excluding 3642 pathway(s) based on min/max genes parameter: GOBP_10_FORMYLTETRAHYDROFOLATE_METABOLIC_PROCESS, GOBP_2FE_2S_CLUSTER_ASSEMBLY, GOBP_3_PHOSPHOADENOSINE_5_PHOSPHOSULFATE_BIOSYNTHETIC_PROCESS, GOBP_5S_CLASS_RRNA_TRANSCRIPTION_BY_RNA_POLYMERASE_III, GOBP_5_PHOSPHORIBOSE_1_DIPHOSPHATE_METABOLIC_PROCESS...\n",
      "\n",
      "\n",
      "Calculating pathway fold changes...\n",
      "\n",
      "\n",
      "Performing a two-sample analysis with SCPA...\n",
      "\n",
      "Extracting cells where seurat_clusters == 0\n",
      "\n",
      "Extracting data from the RNA assay\n",
      "\n",
      "Extracting cells where seurat_clusters == 0\n",
      "\n",
      "Extracting data from the RNA assay\n",
      "\n"
     ]
    },
    {
     "name": "stdout",
     "output_type": "stream",
     "text": [
      "[1] \"comparing 0\"\n"
     ]
    },
    {
     "name": "stderr",
     "output_type": "stream",
     "text": [
      "Processing in parallel using 4 cores\n",
      "\n",
      "\n",
      "Cell numbers in population 1 = 2600\n",
      "\n",
      "Cell numbers in population 2 = 4066\n",
      "\n",
      "- If greater than 500 cells, these populations will be downsampled\n",
      "\n",
      "\n",
      "Excluding 3642 pathway(s) based on min/max genes parameter: GOBP_10_FORMYLTETRAHYDROFOLATE_METABOLIC_PROCESS, GOBP_2FE_2S_CLUSTER_ASSEMBLY, GOBP_3_PHOSPHOADENOSINE_5_PHOSPHOSULFATE_BIOSYNTHETIC_PROCESS, GOBP_5S_CLASS_RRNA_TRANSCRIPTION_BY_RNA_POLYMERASE_III, GOBP_5_PHOSPHORIBOSE_1_DIPHOSPHATE_METABOLIC_PROCESS...\n",
      "\n",
      "\n",
      "Calculating pathway fold changes...\n",
      "\n",
      "\n",
      "Performing a two-sample analysis with SCPA...\n",
      "\n"
     ]
    }
   ],
   "source": [
    "scpa_out <- list()\n",
    "for (i in cell_types) {\n",
    "  \n",
    "  condition_pbs <- seurat_extract(microglia_subcuster_IEG.split$pbs, \n",
    "                            meta1 = \"seurat_clusters\", value_meta1 = i)\n",
    "  \n",
    "  condition_il1 <- seurat_extract(microglia_subcuster_IEG.split$il1, \n",
    "                          meta1 = \"seurat_clusters\", value_meta1 = i)\n",
    "  \n",
    "  print(paste(\"comparing\", i))\n",
    "  scpa_out[[i]] <- compare_pathways(list(condition_pbs, condition_il1), pathways, parallel = TRUE, core = 4)\n",
    "\n",
    "# For faster analysis with parallel processing, use 'parallel = TRUE' and 'cores = x' arguments\n",
    "  \n",
    "}"
   ]
  },
  {
   "cell_type": "code",
   "execution_count": 16,
   "metadata": {
    "vscode": {
     "languageId": "r"
    }
   },
   "outputs": [
    {
     "ename": "ERROR",
     "evalue": "Error in is.data.frame(x) && do.NULL: type 'y' incorrect dans 'x && y'\n",
     "output_type": "error",
     "traceback": [
      "Error in is.data.frame(x) && do.NULL: type 'y' incorrect dans 'x && y'\nTraceback:\n",
      "1. scpa_out[[i]] %>% select(Pathway, qval) %>% colnames(c(\"Pathway\", \n .     paste(i, \"qval\", sep = \"_\")))",
      "2. colnames(., c(\"Pathway\", paste(i, \"qval\", sep = \"_\")))",
      "3. colnames(., c(\"Pathway\", paste(i, \"qval\", sep = \"_\")))"
     ]
    }
   ],
   "source": [
    "for (i in cell_types) {\n",
    "  scpa_out[[i]] <- scpa_out[[i]] %>%\n",
    "    select(Pathway, qval) %>%\n",
    "    colnames(c(\"Pathway\", paste(i, \"qval\", sep = \"_\")))\n",
    "\n",
    "# For faster analysis with parallel processing, use 'parallel = TRUE' and 'cores = x' arguments\n",
    "}"
   ]
  },
  {
   "cell_type": "code",
   "execution_count": 19,
   "metadata": {
    "vscode": {
     "languageId": "r"
    }
   },
   "outputs": [],
   "source": [
    "scpa_out <- scpa_out %>% \n",
    "  reduce(full_join, by = \"Pathway\")"
   ]
  },
  {
   "cell_type": "code",
   "execution_count": 20,
   "metadata": {
    "vscode": {
     "languageId": "r"
    }
   },
   "outputs": [],
   "source": [
    "write.csv(scpa_out, \"/home/adufour/work/table/microglia_scpa_subcluster.csv\")"
   ]
  },
  {
   "cell_type": "code",
   "execution_count": 13,
   "metadata": {
    "vscode": {
     "languageId": "r"
    }
   },
   "outputs": [],
   "source": [
    "scpa_out <- scpa_out[rowSums(scpa_out[])>0,]"
   ]
  },
  {
   "cell_type": "code",
   "execution_count": 16,
   "metadata": {
    "vscode": {
     "languageId": "r"
    }
   },
   "outputs": [],
   "source": [
    "scpa_out <- scpa_out[grep(\"HALLMARK\", rownames(scpa_out)),]"
   ]
  },
  {
   "cell_type": "code",
   "execution_count": 37,
   "metadata": {
    "vscode": {
     "languageId": "r"
    }
   },
   "outputs": [],
   "source": [
    "rownames(scpa_out) <- sub('HALLMARK_', '', rownames(scpa_out))\n",
    "rownames(scpa_out) <- sub('_', ' ', rownames(scpa_out))"
   ]
  },
  {
   "cell_type": "code",
   "execution_count": 30,
   "metadata": {
    "vscode": {
     "languageId": "r"
    }
   },
   "outputs": [],
   "source": [
    "colnames(scpa_out) <- c(\"Cluster 2\", \"Cluster 1\", \"Cluster 0\")"
   ]
  },
  {
   "cell_type": "code",
   "execution_count": 31,
   "metadata": {
    "vscode": {
     "languageId": "r"
    }
   },
   "outputs": [],
   "source": [
    "column_order <- c(\"Cluster 0\", \"Cluster 1\", \"Cluster 2\")\n",
    "mat <- t(scale(t(scpa_out[,column_order]), center = T, scale=T))\n",
    "hb <- HeatmapAnnotation(foo = anno_block(gp = gpar(fill = c(\"#00a085\", \"#1a7fb6\", \"#4a2ed0\")),\n",
    "                                                   labels = c('0', '1', '2'),\n",
    "                                         labels_gp = gpar(col = c(\"black\", \"white\", \"white\"), fontsize = 18)))\n",
    "col_fun <- colorRamp2(seq(min(mat), max(mat), length = 100), colorRampPalette(rev(brewer.pal(n = 11, name = \"RdYlBu\")))(100))\n",
    "lgd <- list(title = \"Q-value\", legend_height = unit(6, \"cm\"), grid_width = unit(1, \"cm\"), labels_gp = gpar(fontsize = 24), title_gp = gpar(fontsize = 24), title_position = \"leftcenter-rot\")\n",
    "split = rep(1:8, each = 3)"
   ]
  },
  {
   "cell_type": "code",
   "execution_count": 40,
   "metadata": {
    "vscode": {
     "languageId": "r"
    }
   },
   "outputs": [
    {
     "data": {
      "text/html": [
       "<strong>png:</strong> 2"
      ],
      "text/latex": [
       "\\textbf{png:} 2"
      ],
      "text/markdown": [
       "**png:** 2"
      ],
      "text/plain": [
       "png \n",
       "  2 "
      ]
     },
     "metadata": {},
     "output_type": "display_data"
    }
   ],
   "source": [
    "options(repr.plot.width=11, repr.plot.height=10) # To set the figure size in Jupyter\n",
    "png('/home/adufour/work/notebook/plots/Microglia/microglia_hallmark_IEG.png',width=11,height=10,units=\"in\",res=300)\n",
    "hm <- draw(ComplexHeatmap::Heatmap(mat, \n",
    "                                   col = col_fun, \n",
    "                                   cluster_columns = FALSE, \n",
    "                                   show_row_names=TRUE,\n",
    "                                   column_names_gp=grid::gpar(fontsize=24),\n",
    "                                   row_names_gp=grid::gpar(fontsize=24),\n",
    "                                   column_gap = unit(3, \"mm\"), \n",
    "                                   column_title = NULL, \n",
    "                                   heatmap_legend_param = lgd), \n",
    "           padding = unit(c(2, 2, 2, 120), \"mm\"),\n",
    "           heatmap_legend_side = \"left\")\n",
    "dev.off()"
   ]
  }
 ],
 "metadata": {
  "kernelspec": {
   "display_name": "R [conda env:microglia]",
   "language": "R",
   "name": "conda-env-microglia-r"
  },
  "language_info": {
   "codemirror_mode": "r",
   "file_extension": ".r",
   "mimetype": "text/x-r-source",
   "name": "R",
   "pygments_lexer": "r",
   "version": "4.1.3"
  }
 },
 "nbformat": 4,
 "nbformat_minor": 4
}
