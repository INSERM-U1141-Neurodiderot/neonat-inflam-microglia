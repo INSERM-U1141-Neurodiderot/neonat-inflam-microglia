{
 "cells": [
  {
   "cell_type": "markdown",
   "metadata": {},
   "source": [
    "Loading package"
   ]
  },
  {
   "cell_type": "code",
   "execution_count": 4,
   "metadata": {
    "vscode": {
     "languageId": "r"
    }
   },
   "outputs": [
    {
     "name": "stderr",
     "output_type": "stream",
     "text": [
      "Loading required package: SingleCellExperiment\n",
      "Loading required package: SummarizedExperiment\n",
      "Loading required package: GenomicRanges\n",
      "Loading required package: Biobase\n",
      "Welcome to Bioconductor\n",
      "\n",
      "    Vignettes contain introductory material; view with\n",
      "    'browseVignettes()'. To cite Bioconductor, see\n",
      "    'citation(\"Biobase\")', and for packages 'citation(\"pkgname\")'.\n",
      "\n",
      "Loading required package: DelayedArray\n",
      "Loading required package: matrixStats\n",
      "\n",
      "Attaching package: 'matrixStats'\n",
      "\n",
      "The following objects are masked from 'package:Biobase':\n",
      "\n",
      "    anyMissing, rowMedians\n",
      "\n",
      "The following object is masked from 'package:dplyr':\n",
      "\n",
      "    count\n",
      "\n",
      "Loading required package: BiocParallel\n",
      "\n",
      "Attaching package: 'DelayedArray'\n",
      "\n",
      "The following objects are masked from 'package:matrixStats':\n",
      "\n",
      "    colMaxs, colMins, colRanges, rowMaxs, rowMins, rowRanges\n",
      "\n",
      "The following objects are masked from 'package:base':\n",
      "\n",
      "    aperm, apply, rowsum\n",
      "\n",
      "\n",
      "Attaching package: 'SummarizedExperiment'\n",
      "\n",
      "The following object is masked from 'package:Seurat':\n",
      "\n",
      "    Assays\n",
      "\n"
     ]
    }
   ],
   "source": [
    "library(Seurat)\n",
    "library(cowplot)\n",
    "library(dplyr)\n",
    "library(ggplot2)\n",
    "library(\"openxlsx\")\n",
    "library(clustree)\n",
    "library(scran)\n",
    "library(biomaRt)"
   ]
  },
  {
   "cell_type": "markdown",
   "metadata": {},
   "source": [
    "Loading matrices"
   ]
  },
  {
   "cell_type": "code",
   "execution_count": 5,
   "metadata": {
    "vscode": {
     "languageId": "r"
    }
   },
   "outputs": [],
   "source": [
    "AR002.data <- t(read.table(\"/home/adrien.dufour/NeuroDev_ADD/00_DATA/SingleCell/SingleCell_ICM/ICM_270320_MATRICE/AR002.counts.tsv\",sep='\\t', header = TRUE, row.names = 1))\n",
    "AR003.data <- t(read.table(\"/home/adrien.dufour/NeuroDev_ADD/00_DATA/SingleCell/SingleCell_ICM/ICM_270320_MATRICE/AR003.counts.tsv\",sep='\\t', header = TRUE, row.names = 1))\n",
    "AR004.data <- t(read.table(\"/home/adrien.dufour/NeuroDev_ADD/00_DATA/SingleCell/SingleCell_ICM/ICM_270320_MATRICE/AR004.counts.tsv\",sep='\\t', header = TRUE, row.names = 1))\n",
    "AR005.data <- t(read.table(\"/home/adrien.dufour/NeuroDev_ADD/00_DATA/SingleCell/SingleCell_ICM/ICM_270320_MATRICE/AR005.counts.tsv\",sep='\\t', header = TRUE, row.names = 1))\n",
    "AR006.data <- t(read.table(\"/home/adrien.dufour/NeuroDev_ADD/00_DATA/SingleCell/SingleCell_ICM/ICM_270320_MATRICE/AR006.counts.tsv\",sep='\\t', header = TRUE, row.names = 1))\n",
    "AR007.data <- t(read.table(\"/home/adrien.dufour/NeuroDev_ADD/00_DATA/SingleCell/SingleCell_ICM/ICM_270320_MATRICE/AR007.counts.tsv\",sep='\\t', header = TRUE, row.names = 1))\n",
    "AR008.data <- t(read.table(\"/home/adrien.dufour/NeuroDev_ADD/00_DATA/SingleCell/SingleCell_ICM/ICM_270320_MATRICE/AR008.counts.tsv\",sep='\\t', header = TRUE, row.names = 1))\n",
    "AR009.data <- t(read.table(\"/home/adrien.dufour/NeuroDev_ADD/00_DATA/SingleCell/SingleCell_ICM/ICM_270320_MATRICE/AR009.counts.tsv\",sep='\\t', header = TRUE, row.names = 1))\n",
    "AR008_b.data <- t(read.table(\"/home/adrien.dufour/NeuroDev_ADD/SingleCell/new_annot/AR008/AR008.counts.tsv\",sep='\\t', header = TRUE, row.names = 1))\n",
    "AR010.data <- t(read.table(\"/home/adrien.dufour/NeuroDev_ADD/SingleCell/new_annot/AR010/AR010.counts.tsv\",sep='\\t', header = TRUE, row.names = 1))\n",
    "AR001.data <- t(read.table(\"/home/adrien.dufour/NeuroDev_ADD/SingleCell/new_annot/2019/AR001.counts.tsv\",sep='\\t', header = TRUE, row.names = 1))\n",
    "AR002_b.data <- t(read.table(\"/home/adrien.dufour/NeuroDev_ADD/SingleCell/new_annot/AR002/AR002.counts.tsv\",sep='\\t', header = TRUE, row.names = 1))\n",
    "AR002_JU.data <- t(read.table(\"/home/adrien.dufour/NeuroDev_ADD/00_DATA/SingleCell/Novaseq_R1_240720_Matrice/AR002.counts.tsv\",sep='\\t', header = TRUE, row.names = 1))\n",
    "AR003_JU.data <- t(read.table(\"/home/adrien.dufour/NeuroDev_ADD/00_DATA/SingleCell/Novaseq_R1_240720_Matrice/AR003.counts.tsv\",sep='\\t', header = TRUE, row.names = 1))\n",
    "AR006_JU.data <- t(read.table(\"/home/adrien.dufour/NeuroDev_ADD/00_DATA/SingleCell/Novaseq_R1_240720_Matrice/AR006.counts.tsv\",sep='\\t', header = TRUE, row.names = 1))\n",
    "AR007_JU.data <- t(read.table(\"/home/adrien.dufour/NeuroDev_ADD/00_DATA/SingleCell/Novaseq_R1_240720_Matrice/AR007.counts.tsv\",sep='\\t', header = TRUE, row.names = 1))\n",
    "AR004_JU.data <- t(read.table(\"/home/adrien.dufour/NeuroDev_ADD/00_DATA/SingleCell/Novaseq_R1_240720_Matrice/AR004.counts.tsv\",sep='\\t', header = TRUE, row.names = 1))\n",
    "AR005_JU.data <- t(read.table(\"/home/adrien.dufour/NeuroDev_ADD/00_DATA/SingleCell/Novaseq_R1_240720_Matrice/AR005.counts.tsv\",sep='\\t', header = TRUE, row.names = 1))\n",
    "AR008_JU.data <- t(read.table(\"/home/adrien.dufour/NeuroDev_ADD/00_DATA/SingleCell/Novaseq_R1_240720_Matrice/AR008.counts.tsv\",sep='\\t', header = TRUE, row.names = 1))\n",
    "AR009_JU.data <- t(read.table(\"/home/adrien.dufour/NeuroDev_ADD/00_DATA/SingleCell/Novaseq_R1_240720_Matrice/AR009.counts.tsv\",sep='\\t', header = TRUE, row.names = 1))"
   ]
  },
  {
   "cell_type": "code",
   "execution_count": 6,
   "metadata": {
    "vscode": {
     "languageId": "r"
    }
   },
   "outputs": [],
   "source": [
    "AR002<-CreateSeuratObject(counts = AR002.data, project = \"il1\", min.cells = 5)\n",
    "AR003<-CreateSeuratObject(counts = AR003.data, project = \"pbs\", min.cells = 5)\n",
    "AR004<-CreateSeuratObject(counts = AR004.data, project = \"il1\", min.cells = 5)\n",
    "AR005<-CreateSeuratObject(counts = AR005.data, project = \"il1\", min.cells = 5)\n",
    "AR006<-CreateSeuratObject(counts = AR006.data, project = \"pbs\", min.cells = 5)\n",
    "AR007<-CreateSeuratObject(counts = AR007.data, project = \"pbs\", min.cells = 5)\n",
    "AR008<-CreateSeuratObject(counts = AR008.data, project = \"il1\", min.cells = 5)\n",
    "AR009<-CreateSeuratObject(counts = AR009.data, project = \"pbs\", min.cells = 5)\n",
    "AR008_b<-CreateSeuratObject(counts = AR008_b.data, project = \"il1\", min.cells = 5)\n",
    "AR010<-CreateSeuratObject(counts = AR010.data, project = \"pbs\", min.cells = 5)\n",
    "AR001<-CreateSeuratObject(counts = AR001.data, project = \"il1\", min.cells = 5)\n",
    "AR002_b<-CreateSeuratObject(counts = AR002_b.data, project = \"pbs\", min.cells = 5)\n",
    "AR002_JU<-CreateSeuratObject(counts = AR002_JU.data, project = \"il1\", min.cells = 5)\n",
    "AR003_JU<-CreateSeuratObject(counts = AR003_JU.data, project = \"il1\", min.cells = 5)\n",
    "AR006_JU<-CreateSeuratObject(counts = AR006_JU.data, project = \"il1\", min.cells = 5)\n",
    "AR007_JU<-CreateSeuratObject(counts = AR007_JU.data, project = \"il1\", min.cells = 5)\n",
    "AR004_JU<-CreateSeuratObject(counts = AR004_JU.data, project = \"pbs\", min.cells = 5)\n",
    "AR005_JU<-CreateSeuratObject(counts = AR005_JU.data, project = \"pbs\", min.cells = 5)\n",
    "AR008_JU<-CreateSeuratObject(counts = AR008_JU.data, project = \"pbs\", min.cells = 5)\n",
    "AR009_JU<-CreateSeuratObject(counts = AR009_JU.data, project = \"pbs\", min.cells = 5)"
   ]
  },
  {
   "cell_type": "code",
   "execution_count": 7,
   "metadata": {
    "vscode": {
     "languageId": "r"
    }
   },
   "outputs": [],
   "source": [
    "AR002$STIM<-\"il1\"\n",
    "AR003$STIM<-\"pbs\"\n",
    "AR004$STIM<-\"il1\"\n",
    "AR005$STIM<-\"il1\"\n",
    "AR006$STIM<-\"pbs\"\n",
    "AR007$STIM<-\"pbs\"\n",
    "AR008$STIM<-\"il1\"\n",
    "AR009$STIM<-\"pbs\"\n",
    "AR008_b$STIM<-\"il1\"\n",
    "AR010$STIM<-\"pbs\"\n",
    "AR001$STIM<-\"il1\"\n",
    "AR002_b$STIM<-\"pbs\"\n",
    "AR002_JU$STIM<-\"il1\"\n",
    "AR003_JU$STIM<-\"il1\"\n",
    "AR006_JU$STIM<-\"il1\"\n",
    "AR007_JU$STIM<-\"il1\"\n",
    "AR004_JU$STIM<-\"pbs\"\n",
    "AR005_JU$STIM<-\"pbs\"\n",
    "AR008_JU$STIM<-\"pbs\"\n",
    "AR009_JU$STIM<-\"pbs\"\n",
    "\n",
    "AR002$TIME<-\"march_20\"\n",
    "AR003$TIME<-\"march_20\"\n",
    "AR004$TIME<-\"march_20\"\n",
    "AR005$TIME<-\"march_20\"\n",
    "AR006$TIME<-\"march_20\"\n",
    "AR007$TIME<-\"march_20\"\n",
    "AR008$TIME<-\"march_20\"\n",
    "AR009$TIME<-\"march_20\"\n",
    "AR008_b$TIME<-\"march_19\"\n",
    "AR010$TIME<-\"march_19\"\n",
    "AR001$TIME<-\"nov_19\"\n",
    "AR002_b$TIME<-\"nov_19\"\n",
    "AR002_JU$TIME<-\"july_2020\"\n",
    "AR003_JU$TIME<-\"july_2020\"\n",
    "AR006_JU$TIME<-\"july_2020\"\n",
    "AR007_JU$TIME<-\"july_2020\"\n",
    "AR004_JU$TIME<-\"july_2020\"\n",
    "AR005_JU$TIME<-\"july_2020\"\n",
    "AR008_JU$TIME<-\"july_2020\"\n",
    "AR009_JU$TIME<-\"july_2020\"\n",
    "\n",
    "AR002$BIO<-\"bio_1\"\n",
    "AR003$BIO<-\"bio_1\"\n",
    "AR004$BIO<-\"bio_2\"\n",
    "AR005$BIO<-\"bio_2\"\n",
    "AR006$BIO<-\"bio_2\"\n",
    "AR007$BIO<-\"bio_2\"\n",
    "AR008$BIO<-\"bio_3\"\n",
    "AR009$BIO<-\"bio_3\"\n",
    "AR002_JU$BIO<-\"bio_4\"\n",
    "AR003_JU$BIO<-\"bio_5\"\n",
    "AR006_JU$BIO<-\"bio_6\"\n",
    "AR007_JU$BIO<-\"bio_7\"\n",
    "AR004_JU$BIO<-\"bio_4\"\n",
    "AR005_JU$BIO<-\"bio_5\"\n",
    "AR008_JU$BIO<-\"bio_6\"\n",
    "AR009_JU$BIO<-\"bio_7\"\n",
    "\n",
    "AR002$TEC<-\"TEC_1\"\n",
    "AR003$TEC<-\"TEC_1\"\n",
    "AR004$TEC<-\"TEC_1\"\n",
    "AR005$TEC<-\"TEC_2\"\n",
    "AR006$TEC<-\"TEC_1\"\n",
    "AR007$TEC<-\"TEC_2\"\n",
    "AR008$TEC<-\"TEC_2\"\n",
    "AR009$TEC<-\"TEC_2\"\n",
    "AR002_JU$BIO<-\"TEC_4\"\n",
    "AR003_JU$BIO<-\"TEC_5\"\n",
    "AR006_JU$BIO<-\"TEC_6\"\n",
    "AR007_JU$BIO<-\"TEC_7\"\n",
    "AR004_JU$BIO<-\"TEC_4\"\n",
    "AR005_JU$BIO<-\"TEC_5\"\n",
    "AR008_JU$BIO<-\"TEC_6\"\n",
    "AR009_JU$BIO<-\"TEC_7\"\n",
    "\n",
    "AR002$SAMP<-\"P5-IL1a\"\n",
    "AR003$SAMP<-\"P5-PBSa\"\n",
    "AR004$SAMP<-\"P5-IL1b\"\n",
    "AR005$SAMP<-\"P5-IL1e\"\n",
    "AR006$SAMP<-\"P5-PBSb\"\n",
    "AR007$SAMP<-\"P5-PBSd\"\n",
    "AR008$SAMP<-\"P5-IL1d\"\n",
    "AR009$SAMP<-\"P5-PBSf\"\n",
    "AR008_b$SAMP<-\"P5-IL1f\"\n",
    "AR010$SAMP<-\"P5-PBSc\"\n",
    "AR001$SAMP<-\"P5-IL1c\"\n",
    "AR002_b$SAMP<-\"P5-PBSe\"\n",
    "AR002_JU$SAMP<-\"P1-IL1a\"\n",
    "AR003_JU$SAMP<-\"P1-IL1b\"\n",
    "AR006_JU$SAMP<-\"P3-IL1a\"\n",
    "AR007_JU$SAMP<-\"P3-IL1b\"\n",
    "AR004_JU$SAMP<-\"P1-PBSa\"\n",
    "AR005_JU$SAMP<-\"P1-PBSb\"\n",
    "AR008_JU$SAMP<-\"P3-PBSa\"\n",
    "AR009_JU$SAMP<-\"P3-PBSb\"\n",
    "\n",
    "AR002$PND<-\"P5\"\n",
    "AR003$PND<-\"P5\"\n",
    "AR004$PND<-\"P5\"\n",
    "AR005$PND<-\"P5\"\n",
    "AR006$PND<-\"P5\"\n",
    "AR007$PND<-\"P5\"\n",
    "AR008$PND<-\"P5\"\n",
    "AR009$PND<-\"P5\"\n",
    "AR008_b$PND<-\"P5\"\n",
    "AR010$PND<-\"P5\"\n",
    "AR001$PND<-\"P5\"\n",
    "AR002_b$PND<-\"P5\"\n",
    "AR002_JU$PND<-\"P1\"\n",
    "AR003_JU$PND<-\"P1\"\n",
    "AR006_JU$PND<-\"P3\"\n",
    "AR007_JU$PND<-\"P3\"\n",
    "AR004_JU$PND<-\"P1\"\n",
    "AR005_JU$PND<-\"P1\"\n",
    "AR008_JU$PND<-\"P3\"\n",
    "AR009_JU$PND<-\"P3\""
   ]
  },
  {
   "cell_type": "code",
   "execution_count": 8,
   "metadata": {
    "vscode": {
     "languageId": "r"
    }
   },
   "outputs": [],
   "source": [
    "AR002[[\"percent.mt\"]]<-PercentageFeatureSet(AR002, pattern = \"^mt.\")\n",
    "AR003[[\"percent.mt\"]]<-PercentageFeatureSet(AR003, pattern = \"^mt.\")\n",
    "AR004[[\"percent.mt\"]]<-PercentageFeatureSet(AR004, pattern = \"^mt.\")\n",
    "AR005[[\"percent.mt\"]]<-PercentageFeatureSet(AR005, pattern = \"^mt.\")\n",
    "AR006[[\"percent.mt\"]]<-PercentageFeatureSet(AR006, pattern = \"^mt.\")\n",
    "AR007[[\"percent.mt\"]]<-PercentageFeatureSet(AR007, pattern = \"^mt.\")\n",
    "AR008[[\"percent.mt\"]]<-PercentageFeatureSet(AR008, pattern = \"^mt.\")\n",
    "AR009[[\"percent.mt\"]]<-PercentageFeatureSet(AR009, pattern = \"^mt.\")\n",
    "AR008_b[[\"percent.mt\"]]<-PercentageFeatureSet(AR008_b, pattern = \"^mt.\")\n",
    "AR010[[\"percent.mt\"]]<-PercentageFeatureSet(AR010, pattern = \"^mt.\")\n",
    "AR001[[\"percent.mt\"]]<-PercentageFeatureSet(AR001, pattern = \"^mt.\")\n",
    "AR002_b[[\"percent.mt\"]]<-PercentageFeatureSet(AR002_b, pattern = \"^mt.\")\n",
    "AR002_JU[[\"percent.mt\"]]<-PercentageFeatureSet(AR002_JU, pattern = \"^mt.\")\n",
    "AR003_JU[[\"percent.mt\"]]<-PercentageFeatureSet(AR003_JU, pattern = \"^mt.\")\n",
    "AR006_JU[[\"percent.mt\"]]<-PercentageFeatureSet(AR006_JU, pattern = \"^mt.\")\n",
    "AR007_JU[[\"percent.mt\"]]<-PercentageFeatureSet(AR007_JU, pattern = \"^mt.\")\n",
    "AR004_JU[[\"percent.mt\"]]<-PercentageFeatureSet(AR004_JU, pattern = \"^mt.\")\n",
    "AR005_JU[[\"percent.mt\"]]<-PercentageFeatureSet(AR005_JU, pattern = \"^mt.\")\n",
    "AR008_JU[[\"percent.mt\"]]<-PercentageFeatureSet(AR008_JU, pattern = \"^mt.\")\n",
    "AR009_JU[[\"percent.mt\"]]<-PercentageFeatureSet(AR009_JU, pattern = \"^mt.\")"
   ]
  },
  {
   "cell_type": "markdown",
   "metadata": {},
   "source": [
    "QC filtering"
   ]
  },
  {
   "cell_type": "code",
   "execution_count": 11,
   "metadata": {
    "vscode": {
     "languageId": "r"
    }
   },
   "outputs": [],
   "source": [
    "AR002 <- subset(AR002, subset = nFeature_RNA > 300 & percent.mt<20)\n",
    "AR003 <- subset(AR003, subset = nFeature_RNA > 300 & percent.mt<20)\n",
    "AR004 <- subset(AR004, subset = nFeature_RNA > 300 & percent.mt<20)\n",
    "AR005 <- subset(AR005, subset = nFeature_RNA > 300 & percent.mt<20)\n",
    "AR006 <- subset(AR006, subset = nFeature_RNA > 300 & percent.mt<20)\n",
    "AR007 <- subset(AR007, subset = nFeature_RNA > 300 & percent.mt<20)\n",
    "AR008 <- subset(AR008, subset = nFeature_RNA > 300 & percent.mt<20)\n",
    "AR009 <- subset(AR009, subset = nFeature_RNA > 300 & percent.mt<20)\n",
    "AR008_b <- subset(AR008_b, subset = nFeature_RNA > 300 & percent.mt<20)\n",
    "AR010 <- subset(AR010, subset = nFeature_RNA > 300 & percent.mt<20)\n",
    "AR001 <- subset(AR001, subset = nFeature_RNA > 300 & percent.mt<20)\n",
    "AR002_b <- subset(AR002_b, subset = nFeature_RNA > 300 & percent.mt<20)\n",
    "AR002_JU <- subset(AR002_JU, subset = nFeature_RNA > 300 & percent.mt<20)\n",
    "AR003_JU <- subset(AR003_JU, subset = nFeature_RNA > 300 & percent.mt<20)\n",
    "AR006_JU <- subset(AR006_JU, subset = nFeature_RNA > 300 & percent.mt<20)\n",
    "AR007_JU <- subset(AR007_JU, subset = nFeature_RNA > 300 & percent.mt<20)\n",
    "AR004_JU <- subset(AR004_JU, subset = nFeature_RNA > 300 & percent.mt<20)\n",
    "AR005_JU <- subset(AR005_JU, subset = nFeature_RNA > 300 & percent.mt<20)\n",
    "AR008_JU <- subset(AR008_JU, subset = nFeature_RNA > 300 & percent.mt<20)\n",
    "AR009_JU <- subset(AR009_JU, subset = nFeature_RNA > 300 & percent.mt<20)"
   ]
  },
  {
   "cell_type": "code",
   "execution_count": null,
   "metadata": {
    "vscode": {
     "languageId": "r"
    }
   },
   "outputs": [],
   "source": [
    "microglia_merge <- merge(x = AR008, y = c(AR009, AR007, AR006, AR005, AR004, AR003, AR008_b, AR010, AR001, AR002_b, AR002,\n",
    "                                            AR002_JU, AR003_JU, AR006_JU, AR007_JU, AR004_JU, AR005_JU, AR008_JU, AR009_JU))\n",
    "saveRDS(microglia_merge, \"/home/adrien.dufour/NeuroDev_ADD/SingleCell/rds_storage/whole/microglia_merge.rds\")"
   ]
  }
 ],
 "metadata": {
  "kernelspec": {
   "display_name": "R-ScRNAseqF",
   "language": "R",
   "name": "r-scrnaseqf"
  },
  "language_info": {
   "codemirror_mode": "r",
   "file_extension": ".r",
   "mimetype": "text/x-r-source",
   "name": "R",
   "pygments_lexer": "r",
   "version": "3.6.0"
  }
 },
 "nbformat": 4,
 "nbformat_minor": 4
}
